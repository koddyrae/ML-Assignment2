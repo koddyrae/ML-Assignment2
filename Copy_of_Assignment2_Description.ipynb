{
  "nbformat": 4,
  "nbformat_minor": 0,
  "metadata": {
    "colab": {
      "provenance": []
    },
    "kernelspec": {
      "name": "python3",
      "display_name": "Python 3"
    },
    "language_info": {
      "name": "python"
    }
  },
  "cells": [
    {
      "cell_type": "markdown",
      "source": [
        "\n",
        "**Model Training** - The purpose of this assignment is to apply your knowledge of machine learning to **two** different datasets. For each dataset, you will train a model to achieve a reasonable performance. You may use trial and error process or search strategies (e.g., Grid search) to fine-tune your model. If you are making any choice or trade-off, document it in your notebook. Documentations should be added as a text cell to your notebook.\n",
        "\n",
        "**Presentation** - Create a summary of your findings and present it in a format of your choice (short video, short report, a few presentation slides, etc.)\n",
        "\n",
        "**Reflection** - Finally, add your contribution statement and self assessment to your notebook.\n"
      ],
      "metadata": {
        "id": "saLm_8R3C5Ah"
      }
    },
    {
      "cell_type": "markdown",
      "source": [
        "# Your Tasks"
      ],
      "metadata": {
        "id": "eSFfoGlZctQW"
      }
    },
    {
      "cell_type": "markdown",
      "source": [
        "## Mental Disorder Dataset\n",
        "\n",
        "Mental Health is an important issue. It must be taken seriously and treated appropriately. Using historical data collected from people diagnosed with Mania Bipolar Disorder (Bipolar Type-1), Depressive Bipolar Disorder (Bipolar Type-2), Major Depressive Disorder, and Normal Individuals, your task is to build a model that can detect the type of mental disorder. The Normal category refers to the individuals who may have minor mental problems, but they differ from those suffering from Major Depressive Disorder and Bipolar Disorder.\n",
        "\n",
        "Your model will be used in as a tool that will help psychiatrists in their decision making process.\n",
        "\n",
        "A collection of 120 Psychology Patients with 17 Essential Symptoms is prepared.\n",
        "The dataset contains the 17 essential symptoms psychiatrists use to diagnose the described disorders. The behavioral symptoms are considered the levels of patients Sadness, Exhaustness, Euphoric, Sleep disorder, Mood swings, Suicidal thoughts, Anorexia, Anxiety, Try-explaining, Nervous breakdown, Ignore & Move-on, Admitting mistakes, Overthinking, Aggressive response, Optimism, Sexual activity, and Concentration.\n"
      ],
      "metadata": {
        "id": "fys0RNOPg77r"
      }
    },
    {
      "cell_type": "markdown",
      "source": [
        "### Install and import dependencies"
      ],
      "metadata": {
        "id": "EtyU6UkAgoyg"
      }
    },
    {
      "cell_type": "code",
      "source": [
        "import math\n",
        "import numpy as np\n",
        "import pandas as pd\n",
        "import matplotlib.pyplot as plt"
      ],
      "metadata": {
        "id": "fmqkuWmKo5uo"
      },
      "execution_count": null,
      "outputs": []
    },
    {
      "cell_type": "markdown",
      "source": [
        "### Download dataset"
      ],
      "metadata": {
        "id": "LXzPtUnV1QhT"
      }
    },
    {
      "cell_type": "code",
      "source": [
        "dataframe = pd.read_csv(\"/Mental-Health.csv\")"
      ],
      "metadata": {
        "id": "e6Vdh9v6Ep7x"
      },
      "execution_count": null,
      "outputs": []
    },
    {
      "cell_type": "code",
      "source": [
        "dataframe.head()"
      ],
      "metadata": {
        "colab": {
          "base_uri": "https://localhost:8080/",
          "height": 365
        },
        "id": "k5RLv568Uukp",
        "outputId": "7027a126-7ed4-4a17-9590-e5bf09eaed37"
      },
      "execution_count": null,
      "outputs": [
        {
          "output_type": "execute_result",
          "data": {
            "text/plain": [
              "  Patient Number    Sadness    Euphoric  Exhausted Sleep dissorder Mood Swing  \\\n",
              "0     Patiant-01    Usually      Seldom  Sometimes       Sometimes        YES   \n",
              "1     Patiant-02    Usually      Seldom    Usually       Sometimes         NO   \n",
              "2     Patiant-03  Sometimes  Most-Often  Sometimes       Sometimes        YES   \n",
              "3     Patiant-04    Usually      Seldom    Usually      Most-Often        YES   \n",
              "4     Patiant-05    Usually     Usually  Sometimes       Sometimes         NO   \n",
              "\n",
              "  Suicidal thoughts Anorxia Authority Respect Try-Explanation  \\\n",
              "0              YES       NO                NO             YES   \n",
              "1               YES      NO                NO              NO   \n",
              "2                NO      NO                NO             YES   \n",
              "3               YES     YES                NO             YES   \n",
              "4                NO      NO                NO              NO   \n",
              "\n",
              "  Aggressive Response Ignore & Move-On Nervous Break-down Admit Mistakes  \\\n",
              "0                  NO               NO                YES            YES   \n",
              "1                  NO               NO                 NO             NO   \n",
              "2                 YES               NO                YES            YES   \n",
              "3                  NO               NO                 NO             NO   \n",
              "4                  NO               NO                YES            YES   \n",
              "\n",
              "  Overthinking Sexual Activity Concentration  Optimisim Expert Diagnose  \n",
              "0          YES       3 From 10     3 From 10  4 From 10  Bipolar Type-2  \n",
              "1           NO       4 From 10     2 From 10  5 From 10      Depression  \n",
              "2           NO       6 From 10     5 From 10  7 From 10  Bipolar Type-1  \n",
              "3           NO       3 From 10     2 From 10  2 From 10  Bipolar Type-2  \n",
              "4          YES       5 From 10     5 From 10  6 From 10          Normal  "
            ],
            "text/html": [
              "\n",
              "  <div id=\"df-3c86fd2a-05e1-4ed8-b0ae-08bee4a11744\" class=\"colab-df-container\">\n",
              "    <div>\n",
              "<style scoped>\n",
              "    .dataframe tbody tr th:only-of-type {\n",
              "        vertical-align: middle;\n",
              "    }\n",
              "\n",
              "    .dataframe tbody tr th {\n",
              "        vertical-align: top;\n",
              "    }\n",
              "\n",
              "    .dataframe thead th {\n",
              "        text-align: right;\n",
              "    }\n",
              "</style>\n",
              "<table border=\"1\" class=\"dataframe\">\n",
              "  <thead>\n",
              "    <tr style=\"text-align: right;\">\n",
              "      <th></th>\n",
              "      <th>Patient Number</th>\n",
              "      <th>Sadness</th>\n",
              "      <th>Euphoric</th>\n",
              "      <th>Exhausted</th>\n",
              "      <th>Sleep dissorder</th>\n",
              "      <th>Mood Swing</th>\n",
              "      <th>Suicidal thoughts</th>\n",
              "      <th>Anorxia</th>\n",
              "      <th>Authority Respect</th>\n",
              "      <th>Try-Explanation</th>\n",
              "      <th>Aggressive Response</th>\n",
              "      <th>Ignore &amp; Move-On</th>\n",
              "      <th>Nervous Break-down</th>\n",
              "      <th>Admit Mistakes</th>\n",
              "      <th>Overthinking</th>\n",
              "      <th>Sexual Activity</th>\n",
              "      <th>Concentration</th>\n",
              "      <th>Optimisim</th>\n",
              "      <th>Expert Diagnose</th>\n",
              "    </tr>\n",
              "  </thead>\n",
              "  <tbody>\n",
              "    <tr>\n",
              "      <th>0</th>\n",
              "      <td>Patiant-01</td>\n",
              "      <td>Usually</td>\n",
              "      <td>Seldom</td>\n",
              "      <td>Sometimes</td>\n",
              "      <td>Sometimes</td>\n",
              "      <td>YES</td>\n",
              "      <td>YES</td>\n",
              "      <td>NO</td>\n",
              "      <td>NO</td>\n",
              "      <td>YES</td>\n",
              "      <td>NO</td>\n",
              "      <td>NO</td>\n",
              "      <td>YES</td>\n",
              "      <td>YES</td>\n",
              "      <td>YES</td>\n",
              "      <td>3 From 10</td>\n",
              "      <td>3 From 10</td>\n",
              "      <td>4 From 10</td>\n",
              "      <td>Bipolar Type-2</td>\n",
              "    </tr>\n",
              "    <tr>\n",
              "      <th>1</th>\n",
              "      <td>Patiant-02</td>\n",
              "      <td>Usually</td>\n",
              "      <td>Seldom</td>\n",
              "      <td>Usually</td>\n",
              "      <td>Sometimes</td>\n",
              "      <td>NO</td>\n",
              "      <td>YES</td>\n",
              "      <td>NO</td>\n",
              "      <td>NO</td>\n",
              "      <td>NO</td>\n",
              "      <td>NO</td>\n",
              "      <td>NO</td>\n",
              "      <td>NO</td>\n",
              "      <td>NO</td>\n",
              "      <td>NO</td>\n",
              "      <td>4 From 10</td>\n",
              "      <td>2 From 10</td>\n",
              "      <td>5 From 10</td>\n",
              "      <td>Depression</td>\n",
              "    </tr>\n",
              "    <tr>\n",
              "      <th>2</th>\n",
              "      <td>Patiant-03</td>\n",
              "      <td>Sometimes</td>\n",
              "      <td>Most-Often</td>\n",
              "      <td>Sometimes</td>\n",
              "      <td>Sometimes</td>\n",
              "      <td>YES</td>\n",
              "      <td>NO</td>\n",
              "      <td>NO</td>\n",
              "      <td>NO</td>\n",
              "      <td>YES</td>\n",
              "      <td>YES</td>\n",
              "      <td>NO</td>\n",
              "      <td>YES</td>\n",
              "      <td>YES</td>\n",
              "      <td>NO</td>\n",
              "      <td>6 From 10</td>\n",
              "      <td>5 From 10</td>\n",
              "      <td>7 From 10</td>\n",
              "      <td>Bipolar Type-1</td>\n",
              "    </tr>\n",
              "    <tr>\n",
              "      <th>3</th>\n",
              "      <td>Patiant-04</td>\n",
              "      <td>Usually</td>\n",
              "      <td>Seldom</td>\n",
              "      <td>Usually</td>\n",
              "      <td>Most-Often</td>\n",
              "      <td>YES</td>\n",
              "      <td>YES</td>\n",
              "      <td>YES</td>\n",
              "      <td>NO</td>\n",
              "      <td>YES</td>\n",
              "      <td>NO</td>\n",
              "      <td>NO</td>\n",
              "      <td>NO</td>\n",
              "      <td>NO</td>\n",
              "      <td>NO</td>\n",
              "      <td>3 From 10</td>\n",
              "      <td>2 From 10</td>\n",
              "      <td>2 From 10</td>\n",
              "      <td>Bipolar Type-2</td>\n",
              "    </tr>\n",
              "    <tr>\n",
              "      <th>4</th>\n",
              "      <td>Patiant-05</td>\n",
              "      <td>Usually</td>\n",
              "      <td>Usually</td>\n",
              "      <td>Sometimes</td>\n",
              "      <td>Sometimes</td>\n",
              "      <td>NO</td>\n",
              "      <td>NO</td>\n",
              "      <td>NO</td>\n",
              "      <td>NO</td>\n",
              "      <td>NO</td>\n",
              "      <td>NO</td>\n",
              "      <td>NO</td>\n",
              "      <td>YES</td>\n",
              "      <td>YES</td>\n",
              "      <td>YES</td>\n",
              "      <td>5 From 10</td>\n",
              "      <td>5 From 10</td>\n",
              "      <td>6 From 10</td>\n",
              "      <td>Normal</td>\n",
              "    </tr>\n",
              "  </tbody>\n",
              "</table>\n",
              "</div>\n",
              "    <div class=\"colab-df-buttons\">\n",
              "\n",
              "  <div class=\"colab-df-container\">\n",
              "    <button class=\"colab-df-convert\" onclick=\"convertToInteractive('df-3c86fd2a-05e1-4ed8-b0ae-08bee4a11744')\"\n",
              "            title=\"Convert this dataframe to an interactive table.\"\n",
              "            style=\"display:none;\">\n",
              "\n",
              "  <svg xmlns=\"http://www.w3.org/2000/svg\" height=\"24px\" viewBox=\"0 -960 960 960\">\n",
              "    <path d=\"M120-120v-720h720v720H120Zm60-500h600v-160H180v160Zm220 220h160v-160H400v160Zm0 220h160v-160H400v160ZM180-400h160v-160H180v160Zm440 0h160v-160H620v160ZM180-180h160v-160H180v160Zm440 0h160v-160H620v160Z\"/>\n",
              "  </svg>\n",
              "    </button>\n",
              "\n",
              "  <style>\n",
              "    .colab-df-container {\n",
              "      display:flex;\n",
              "      gap: 12px;\n",
              "    }\n",
              "\n",
              "    .colab-df-convert {\n",
              "      background-color: #E8F0FE;\n",
              "      border: none;\n",
              "      border-radius: 50%;\n",
              "      cursor: pointer;\n",
              "      display: none;\n",
              "      fill: #1967D2;\n",
              "      height: 32px;\n",
              "      padding: 0 0 0 0;\n",
              "      width: 32px;\n",
              "    }\n",
              "\n",
              "    .colab-df-convert:hover {\n",
              "      background-color: #E2EBFA;\n",
              "      box-shadow: 0px 1px 2px rgba(60, 64, 67, 0.3), 0px 1px 3px 1px rgba(60, 64, 67, 0.15);\n",
              "      fill: #174EA6;\n",
              "    }\n",
              "\n",
              "    .colab-df-buttons div {\n",
              "      margin-bottom: 4px;\n",
              "    }\n",
              "\n",
              "    [theme=dark] .colab-df-convert {\n",
              "      background-color: #3B4455;\n",
              "      fill: #D2E3FC;\n",
              "    }\n",
              "\n",
              "    [theme=dark] .colab-df-convert:hover {\n",
              "      background-color: #434B5C;\n",
              "      box-shadow: 0px 1px 3px 1px rgba(0, 0, 0, 0.15);\n",
              "      filter: drop-shadow(0px 1px 2px rgba(0, 0, 0, 0.3));\n",
              "      fill: #FFFFFF;\n",
              "    }\n",
              "  </style>\n",
              "\n",
              "    <script>\n",
              "      const buttonEl =\n",
              "        document.querySelector('#df-3c86fd2a-05e1-4ed8-b0ae-08bee4a11744 button.colab-df-convert');\n",
              "      buttonEl.style.display =\n",
              "        google.colab.kernel.accessAllowed ? 'block' : 'none';\n",
              "\n",
              "      async function convertToInteractive(key) {\n",
              "        const element = document.querySelector('#df-3c86fd2a-05e1-4ed8-b0ae-08bee4a11744');\n",
              "        const dataTable =\n",
              "          await google.colab.kernel.invokeFunction('convertToInteractive',\n",
              "                                                    [key], {});\n",
              "        if (!dataTable) return;\n",
              "\n",
              "        const docLinkHtml = 'Like what you see? Visit the ' +\n",
              "          '<a target=\"_blank\" href=https://colab.research.google.com/notebooks/data_table.ipynb>data table notebook</a>'\n",
              "          + ' to learn more about interactive tables.';\n",
              "        element.innerHTML = '';\n",
              "        dataTable['output_type'] = 'display_data';\n",
              "        await google.colab.output.renderOutput(dataTable, element);\n",
              "        const docLink = document.createElement('div');\n",
              "        docLink.innerHTML = docLinkHtml;\n",
              "        element.appendChild(docLink);\n",
              "      }\n",
              "    </script>\n",
              "  </div>\n",
              "\n",
              "\n",
              "<div id=\"df-53c14303-78e8-4a05-a6d4-f46a4458068f\">\n",
              "  <button class=\"colab-df-quickchart\" onclick=\"quickchart('df-53c14303-78e8-4a05-a6d4-f46a4458068f')\"\n",
              "            title=\"Suggest charts\"\n",
              "            style=\"display:none;\">\n",
              "\n",
              "<svg xmlns=\"http://www.w3.org/2000/svg\" height=\"24px\"viewBox=\"0 0 24 24\"\n",
              "     width=\"24px\">\n",
              "    <g>\n",
              "        <path d=\"M19 3H5c-1.1 0-2 .9-2 2v14c0 1.1.9 2 2 2h14c1.1 0 2-.9 2-2V5c0-1.1-.9-2-2-2zM9 17H7v-7h2v7zm4 0h-2V7h2v10zm4 0h-2v-4h2v4z\"/>\n",
              "    </g>\n",
              "</svg>\n",
              "  </button>\n",
              "\n",
              "<style>\n",
              "  .colab-df-quickchart {\n",
              "      --bg-color: #E8F0FE;\n",
              "      --fill-color: #1967D2;\n",
              "      --hover-bg-color: #E2EBFA;\n",
              "      --hover-fill-color: #174EA6;\n",
              "      --disabled-fill-color: #AAA;\n",
              "      --disabled-bg-color: #DDD;\n",
              "  }\n",
              "\n",
              "  [theme=dark] .colab-df-quickchart {\n",
              "      --bg-color: #3B4455;\n",
              "      --fill-color: #D2E3FC;\n",
              "      --hover-bg-color: #434B5C;\n",
              "      --hover-fill-color: #FFFFFF;\n",
              "      --disabled-bg-color: #3B4455;\n",
              "      --disabled-fill-color: #666;\n",
              "  }\n",
              "\n",
              "  .colab-df-quickchart {\n",
              "    background-color: var(--bg-color);\n",
              "    border: none;\n",
              "    border-radius: 50%;\n",
              "    cursor: pointer;\n",
              "    display: none;\n",
              "    fill: var(--fill-color);\n",
              "    height: 32px;\n",
              "    padding: 0;\n",
              "    width: 32px;\n",
              "  }\n",
              "\n",
              "  .colab-df-quickchart:hover {\n",
              "    background-color: var(--hover-bg-color);\n",
              "    box-shadow: 0 1px 2px rgba(60, 64, 67, 0.3), 0 1px 3px 1px rgba(60, 64, 67, 0.15);\n",
              "    fill: var(--button-hover-fill-color);\n",
              "  }\n",
              "\n",
              "  .colab-df-quickchart-complete:disabled,\n",
              "  .colab-df-quickchart-complete:disabled:hover {\n",
              "    background-color: var(--disabled-bg-color);\n",
              "    fill: var(--disabled-fill-color);\n",
              "    box-shadow: none;\n",
              "  }\n",
              "\n",
              "  .colab-df-spinner {\n",
              "    border: 2px solid var(--fill-color);\n",
              "    border-color: transparent;\n",
              "    border-bottom-color: var(--fill-color);\n",
              "    animation:\n",
              "      spin 1s steps(1) infinite;\n",
              "  }\n",
              "\n",
              "  @keyframes spin {\n",
              "    0% {\n",
              "      border-color: transparent;\n",
              "      border-bottom-color: var(--fill-color);\n",
              "      border-left-color: var(--fill-color);\n",
              "    }\n",
              "    20% {\n",
              "      border-color: transparent;\n",
              "      border-left-color: var(--fill-color);\n",
              "      border-top-color: var(--fill-color);\n",
              "    }\n",
              "    30% {\n",
              "      border-color: transparent;\n",
              "      border-left-color: var(--fill-color);\n",
              "      border-top-color: var(--fill-color);\n",
              "      border-right-color: var(--fill-color);\n",
              "    }\n",
              "    40% {\n",
              "      border-color: transparent;\n",
              "      border-right-color: var(--fill-color);\n",
              "      border-top-color: var(--fill-color);\n",
              "    }\n",
              "    60% {\n",
              "      border-color: transparent;\n",
              "      border-right-color: var(--fill-color);\n",
              "    }\n",
              "    80% {\n",
              "      border-color: transparent;\n",
              "      border-right-color: var(--fill-color);\n",
              "      border-bottom-color: var(--fill-color);\n",
              "    }\n",
              "    90% {\n",
              "      border-color: transparent;\n",
              "      border-bottom-color: var(--fill-color);\n",
              "    }\n",
              "  }\n",
              "</style>\n",
              "\n",
              "  <script>\n",
              "    async function quickchart(key) {\n",
              "      const quickchartButtonEl =\n",
              "        document.querySelector('#' + key + ' button');\n",
              "      quickchartButtonEl.disabled = true;  // To prevent multiple clicks.\n",
              "      quickchartButtonEl.classList.add('colab-df-spinner');\n",
              "      try {\n",
              "        const charts = await google.colab.kernel.invokeFunction(\n",
              "            'suggestCharts', [key], {});\n",
              "      } catch (error) {\n",
              "        console.error('Error during call to suggestCharts:', error);\n",
              "      }\n",
              "      quickchartButtonEl.classList.remove('colab-df-spinner');\n",
              "      quickchartButtonEl.classList.add('colab-df-quickchart-complete');\n",
              "    }\n",
              "    (() => {\n",
              "      let quickchartButtonEl =\n",
              "        document.querySelector('#df-53c14303-78e8-4a05-a6d4-f46a4458068f button');\n",
              "      quickchartButtonEl.style.display =\n",
              "        google.colab.kernel.accessAllowed ? 'block' : 'none';\n",
              "    })();\n",
              "  </script>\n",
              "</div>\n",
              "    </div>\n",
              "  </div>\n"
            ],
            "application/vnd.google.colaboratory.intrinsic+json": {
              "type": "dataframe",
              "variable_name": "dataframe",
              "summary": "{\n  \"name\": \"dataframe\",\n  \"rows\": 120,\n  \"fields\": [\n    {\n      \"column\": \"Patient Number\",\n      \"properties\": {\n        \"dtype\": \"string\",\n        \"num_unique_values\": 120,\n        \"samples\": [\n          \"Patiant-45\",\n          \"Patiant-48\",\n          \"Patiant-05\"\n        ],\n        \"semantic_type\": \"\",\n        \"description\": \"\"\n      }\n    },\n    {\n      \"column\": \"Sadness\",\n      \"properties\": {\n        \"dtype\": \"category\",\n        \"num_unique_values\": 4,\n        \"samples\": [\n          \"Sometimes\",\n          \"Most-Often\",\n          \"Usually\"\n        ],\n        \"semantic_type\": \"\",\n        \"description\": \"\"\n      }\n    },\n    {\n      \"column\": \"Euphoric\",\n      \"properties\": {\n        \"dtype\": \"category\",\n        \"num_unique_values\": 4,\n        \"samples\": [\n          \"Most-Often\",\n          \"Sometimes\",\n          \"Seldom\"\n        ],\n        \"semantic_type\": \"\",\n        \"description\": \"\"\n      }\n    },\n    {\n      \"column\": \"Exhausted\",\n      \"properties\": {\n        \"dtype\": \"category\",\n        \"num_unique_values\": 4,\n        \"samples\": [\n          \"Usually\",\n          \"Most-Often\",\n          \"Sometimes\"\n        ],\n        \"semantic_type\": \"\",\n        \"description\": \"\"\n      }\n    },\n    {\n      \"column\": \"Sleep dissorder\",\n      \"properties\": {\n        \"dtype\": \"category\",\n        \"num_unique_values\": 4,\n        \"samples\": [\n          \"Most-Often\",\n          \"Seldom\",\n          \"Sometimes\"\n        ],\n        \"semantic_type\": \"\",\n        \"description\": \"\"\n      }\n    },\n    {\n      \"column\": \"Mood Swing\",\n      \"properties\": {\n        \"dtype\": \"category\",\n        \"num_unique_values\": 2,\n        \"samples\": [\n          \"NO\",\n          \"YES\"\n        ],\n        \"semantic_type\": \"\",\n        \"description\": \"\"\n      }\n    },\n    {\n      \"column\": \"Suicidal thoughts\",\n      \"properties\": {\n        \"dtype\": \"category\",\n        \"num_unique_values\": 3,\n        \"samples\": [\n          \"YES \",\n          \"YES\"\n        ],\n        \"semantic_type\": \"\",\n        \"description\": \"\"\n      }\n    },\n    {\n      \"column\": \"Anorxia\",\n      \"properties\": {\n        \"dtype\": \"category\",\n        \"num_unique_values\": 2,\n        \"samples\": [\n          \"YES\",\n          \"NO\"\n        ],\n        \"semantic_type\": \"\",\n        \"description\": \"\"\n      }\n    },\n    {\n      \"column\": \"Authority Respect\",\n      \"properties\": {\n        \"dtype\": \"category\",\n        \"num_unique_values\": 2,\n        \"samples\": [\n          \"YES\",\n          \"NO\"\n        ],\n        \"semantic_type\": \"\",\n        \"description\": \"\"\n      }\n    },\n    {\n      \"column\": \"Try-Explanation\",\n      \"properties\": {\n        \"dtype\": \"category\",\n        \"num_unique_values\": 2,\n        \"samples\": [\n          \"NO\",\n          \"YES\"\n        ],\n        \"semantic_type\": \"\",\n        \"description\": \"\"\n      }\n    },\n    {\n      \"column\": \"Aggressive Response\",\n      \"properties\": {\n        \"dtype\": \"category\",\n        \"num_unique_values\": 2,\n        \"samples\": [\n          \"YES\",\n          \"NO\"\n        ],\n        \"semantic_type\": \"\",\n        \"description\": \"\"\n      }\n    },\n    {\n      \"column\": \"Ignore & Move-On\",\n      \"properties\": {\n        \"dtype\": \"category\",\n        \"num_unique_values\": 2,\n        \"samples\": [\n          \"YES\",\n          \"NO\"\n        ],\n        \"semantic_type\": \"\",\n        \"description\": \"\"\n      }\n    },\n    {\n      \"column\": \"Nervous Break-down\",\n      \"properties\": {\n        \"dtype\": \"category\",\n        \"num_unique_values\": 2,\n        \"samples\": [\n          \"NO\",\n          \"YES\"\n        ],\n        \"semantic_type\": \"\",\n        \"description\": \"\"\n      }\n    },\n    {\n      \"column\": \"Admit Mistakes\",\n      \"properties\": {\n        \"dtype\": \"category\",\n        \"num_unique_values\": 2,\n        \"samples\": [\n          \"NO\",\n          \"YES\"\n        ],\n        \"semantic_type\": \"\",\n        \"description\": \"\"\n      }\n    },\n    {\n      \"column\": \"Overthinking\",\n      \"properties\": {\n        \"dtype\": \"category\",\n        \"num_unique_values\": 2,\n        \"samples\": [\n          \"NO\",\n          \"YES\"\n        ],\n        \"semantic_type\": \"\",\n        \"description\": \"\"\n      }\n    },\n    {\n      \"column\": \"Sexual Activity\",\n      \"properties\": {\n        \"dtype\": \"category\",\n        \"num_unique_values\": 9,\n        \"samples\": [\n          \"2 From 10\",\n          \"4 From 10\"\n        ],\n        \"semantic_type\": \"\",\n        \"description\": \"\"\n      }\n    },\n    {\n      \"column\": \"Concentration\",\n      \"properties\": {\n        \"dtype\": \"category\",\n        \"num_unique_values\": 8,\n        \"samples\": [\n          \"2 From 10\",\n          \"6 From 10\"\n        ],\n        \"semantic_type\": \"\",\n        \"description\": \"\"\n      }\n    },\n    {\n      \"column\": \"Optimisim\",\n      \"properties\": {\n        \"dtype\": \"category\",\n        \"num_unique_values\": 9,\n        \"samples\": [\n          \"8 From 10\",\n          \"5 From 10\"\n        ],\n        \"semantic_type\": \"\",\n        \"description\": \"\"\n      }\n    },\n    {\n      \"column\": \"Expert Diagnose\",\n      \"properties\": {\n        \"dtype\": \"category\",\n        \"num_unique_values\": 4,\n        \"samples\": [\n          \"Depression\",\n          \"Normal\"\n        ],\n        \"semantic_type\": \"\",\n        \"description\": \"\"\n      }\n    }\n  ]\n}"
            }
          },
          "metadata": {},
          "execution_count": 68
        }
      ]
    },
    {
      "cell_type": "code",
      "source": [
        "plt.hist(dataframe[\"Expert Diagnose\"])\n",
        "plt.xlabel(\"Disorder\")\n",
        "plt.ylabel(\"Frequency\")\n",
        "\n",
        "plt.show()"
      ],
      "metadata": {
        "colab": {
          "base_uri": "https://localhost:8080/",
          "height": 449
        },
        "id": "71JG8-MlYcSp",
        "outputId": "4f5c8a4c-8481-4c04-f493-8861f0c045d6"
      },
      "execution_count": null,
      "outputs": [
        {
          "output_type": "display_data",
          "data": {
            "text/plain": [
              "<Figure size 640x480 with 1 Axes>"
            ],
            "image/png": "[encoded data removed]"
          },
          "metadata": {}
        }
      ]
    },
    {
      "cell_type": "code",
      "source": [
        "#### Data Preprocessing: Replacing Categorical Values with Numerical Values\n",
        "dataframe['Sexual Activity'].replace(['1 From 10', '2 From 10', '3 From 10', '4 From 10', '5 From 10', '6 From 10', '7 From 10', '8 From 10', '9 From 10'],[1, 2, 3, 4, 5, 6, 7, 8, 9], inplace=True)\n",
        "dataframe['Optimisim'].replace(['1 From 10', '2 From 10', '3 From 10', '4 From 10', '5 From 10', '6 From 10', '7 From 10', '8 From 10', '9 From 10'],[1, 2, 3, 4, 5, 6, 7, 8, 9], inplace=True)\n",
        "dataframe['Concentration'].replace(['1 From 10', '2 From 10', '3 From 10', '4 From 10', '5 From 10', '6 From 10', '7 From 10', '8 From 10', '9 From 10'],[1, 2, 3, 4, 5, 6, 7, 8, 9], inplace=True)"
      ],
      "metadata": {
        "id": "bPD0o6hto9LB"
      },
      "execution_count": null,
      "outputs": []
    },
    {
      "cell_type": "code",
      "source": [
        "### Data Preprocessing: Separating Target Variable and Features. This is the variable we aim to predict.\n",
        "\n",
        "target = dataframe[\"Expert Diagnose\"]\n",
        "data = dataframe.drop(\"Expert Diagnose\", axis = 1)"
      ],
      "metadata": {
        "id": "7kO8xVvgfPbK"
      },
      "execution_count": null,
      "outputs": []
    },
    {
      "cell_type": "code",
      "source": [
        "from imblearn.under_sampling import RandomUnderSampler\n",
        "sampler = RandomUnderSampler(random_state=0)\n",
        "\n",
        "# Perform undersampling to address the unbalanced dataset\n",
        "X_under, y_under = sampler.fit_resample(data, target)\n",
        "\n",
        "# Update data and target with the undersampled data\n",
        "data = X_under\n",
        "target = y_under"
      ],
      "metadata": {
        "id": "BHuSgN0JiUqO"
      },
      "execution_count": null,
      "outputs": []
    },
    {
      "cell_type": "code",
      "source": [
        "target.value_counts()"
      ],
      "metadata": {
        "colab": {
          "base_uri": "https://localhost:8080/"
        },
        "id": "eezWueg4iY6t",
        "outputId": "0400769b-b5d5-40c4-9c32-68698e34c8d9"
      },
      "execution_count": null,
      "outputs": [
        {
          "output_type": "execute_result",
          "data": {
            "text/plain": [
              "Bipolar Type-1    28\n",
              "Bipolar Type-2    28\n",
              "Depression        28\n",
              "Normal            28\n",
              "Name: Expert Diagnose, dtype: int64"
            ]
          },
          "metadata": {},
          "execution_count": 73
        }
      ]
    },
    {
      "cell_type": "code",
      "source": [
        "from sklearn.model_selection import train_test_split\n",
        "\n",
        "# Split the data into training and testing sets\n",
        "X_train, X_test, y_train, y_test = train_test_split(data, target, test_size=0.2, random_state=42)"
      ],
      "metadata": {
        "id": "lMBF8qtnioXX"
      },
      "execution_count": null,
      "outputs": []
    },
    {
      "cell_type": "code",
      "source": [
        "y_train.value_counts()"
      ],
      "metadata": {
        "colab": {
          "base_uri": "https://localhost:8080/"
        },
        "id": "pWI6Wwtnjk83",
        "outputId": "2f1351ca-30d3-42ec-d59c-19aed50c0df4"
      },
      "execution_count": null,
      "outputs": [
        {
          "output_type": "execute_result",
          "data": {
            "text/plain": [
              "Normal            25\n",
              "Depression        23\n",
              "Bipolar Type-1    21\n",
              "Bipolar Type-2    20\n",
              "Name: Expert Diagnose, dtype: int64"
            ]
          },
          "metadata": {},
          "execution_count": 75
        }
      ]
    },
    {
      "cell_type": "code",
      "source": [
        "y_test.value_counts()"
      ],
      "metadata": {
        "colab": {
          "base_uri": "https://localhost:8080/"
        },
        "id": "yB14WUvTjn5x",
        "outputId": "daaa9a61-0e35-4b1b-a1e9-60aee5c048d1"
      },
      "execution_count": null,
      "outputs": [
        {
          "output_type": "execute_result",
          "data": {
            "text/plain": [
              "Bipolar Type-2    8\n",
              "Bipolar Type-1    7\n",
              "Depression        5\n",
              "Normal            3\n",
              "Name: Expert Diagnose, dtype: int64"
            ]
          },
          "metadata": {},
          "execution_count": 76
        }
      ]
    },
    {
      "cell_type": "code",
      "source": [
        "from sklearn.impute import SimpleImputer\n",
        "from sklearn.preprocessing import StandardScaler\n",
        "from sklearn.preprocessing import OneHotEncoder\n",
        "from sklearn.pipeline import make_pipeline\n",
        "from sklearn.compose import ColumnTransformer\n",
        "\n",
        "num_attribs = [\"Optimisim\", \"Concentration\", \"Sexual Activity\"]\n",
        "cat_attribs = [\"Sadness\", \"Euphoric\", \"Exhausted\", \"Sleep dissorder\", \"Mood Swing\", \"Suicidal thoughts\", \"Anorxia\", \"Authority Respect\", \"Try-Explanation\", \"Aggressive Response\", \"Ignore & Move-On\", \"Nervous Break-down\", \"Admit Mistakes\", \"Overthinking\"]\n",
        "\n",
        "# Numerical pipeline\n",
        "num_pipeline = make_pipeline(\n",
        "    SimpleImputer(strategy=\"median\"),\n",
        "    StandardScaler())\n",
        "\n",
        "# Categorical pipelineg\n",
        "cat_pipeline = make_pipeline(\n",
        "    SimpleImputer(strategy=\"most_frequent\"),\n",
        "    OneHotEncoder(handle_unknown=\"ignore\"))\n",
        "\n",
        "# Full pipeline combining numerical and categorical pipelines\n",
        "full_pipeline = ColumnTransformer([\n",
        "    (\"num\", num_pipeline, num_attribs),\n",
        "    (\"cat\", cat_pipeline, cat_attribs),\n",
        "])\n"
      ],
      "metadata": {
        "id": "qaipp5k1nYMn"
      },
      "execution_count": null,
      "outputs": []
    },
    {
      "cell_type": "code",
      "source": [
        "X_train_prepared = full_pipeline.fit_transform(X_train)"
      ],
      "metadata": {
        "id": "UtNnEb69zlFx"
      },
      "execution_count": null,
      "outputs": []
    },
    {
      "cell_type": "code",
      "source": [
        "from sklearn.neighbors import KNeighborsClassifier\n",
        "\n",
        "# Initialize KNN classifier with n_neighbors=4\n",
        "# Setting it to 4 means that the model will consider the class labels of the four nearest neighbors\n",
        "clf_1 = KNeighborsClassifier(n_neighbors=4)\n",
        "\n",
        "# Train the classifier\n",
        "clf_1.fit(X_train_prepared, y_train)"
      ],
      "metadata": {
        "colab": {
          "base_uri": "https://localhost:8080/",
          "height": 75
        },
        "id": "KOxY8EVc5gMx",
        "outputId": "0518eed1-0fa3-4446-cb3e-9f02fac13982"
      },
      "execution_count": null,
      "outputs": [
        {
          "output_type": "execute_result",
          "data": {
            "text/plain": [
              "KNeighborsClassifier(n_neighbors=4)"
            ],
            "text/html": [
              "<style>#sk-container-id-10 {color: black;background-color: white;}#sk-container-id-10 pre{padding: 0;}#sk-container-id-10 div.sk-toggleable {background-color: white;}#sk-container-id-10 label.sk-toggleable__label {cursor: pointer;display: block;width: 100%;margin-bottom: 0;padding: 0.3em;box-sizing: border-box;text-align: center;}#sk-container-id-10 label.sk-toggleable__label-arrow:before {content: \"▸\";float: left;margin-right: 0.25em;color: #696969;}#sk-container-id-10 label.sk-toggleable__label-arrow:hover:before {color: black;}#sk-container-id-10 div.sk-estimator:hover label.sk-toggleable__label-arrow:before {color: black;}#sk-container-id-10 div.sk-toggleable__content {max-height: 0;max-width: 0;overflow: hidden;text-align: left;background-color: #f0f8ff;}#sk-container-id-10 div.sk-toggleable__content pre {margin: 0.2em;color: black;border-radius: 0.25em;background-color: #f0f8ff;}#sk-container-id-10 input.sk-toggleable__control:checked~div.sk-toggleable__content {max-height: 200px;max-width: 100%;overflow: auto;}#sk-container-id-10 input.sk-toggleable__control:checked~label.sk-toggleable__label-arrow:before {content: \"▾\";}#sk-container-id-10 div.sk-estimator input.sk-toggleable__control:checked~label.sk-toggleable__label {background-color: #d4ebff;}#sk-container-id-10 div.sk-label input.sk-toggleable__control:checked~label.sk-toggleable__label {background-color: #d4ebff;}#sk-container-id-10 input.sk-hidden--visually {border: 0;clip: rect(1px 1px 1px 1px);clip: rect(1px, 1px, 1px, 1px);height: 1px;margin: -1px;overflow: hidden;padding: 0;position: absolute;width: 1px;}#sk-container-id-10 div.sk-estimator {font-family: monospace;background-color: #f0f8ff;border: 1px dotted black;border-radius: 0.25em;box-sizing: border-box;margin-bottom: 0.5em;}#sk-container-id-10 div.sk-estimator:hover {background-color: #d4ebff;}#sk-container-id-10 div.sk-parallel-item::after {content: \"\";width: 100%;border-bottom: 1px solid gray;flex-grow: 1;}#sk-container-id-10 div.sk-label:hover label.sk-toggleable__label {background-color: #d4ebff;}#sk-container-id-10 div.sk-serial::before {content: \"\";position: absolute;border-left: 1px solid gray;box-sizing: border-box;top: 0;bottom: 0;left: 50%;z-index: 0;}#sk-container-id-10 div.sk-serial {display: flex;flex-direction: column;align-items: center;background-color: white;padding-right: 0.2em;padding-left: 0.2em;position: relative;}#sk-container-id-10 div.sk-item {position: relative;z-index: 1;}#sk-container-id-10 div.sk-parallel {display: flex;align-items: stretch;justify-content: center;background-color: white;position: relative;}#sk-container-id-10 div.sk-item::before, #sk-container-id-10 div.sk-parallel-item::before {content: \"\";position: absolute;border-left: 1px solid gray;box-sizing: border-box;top: 0;bottom: 0;left: 50%;z-index: -1;}#sk-container-id-10 div.sk-parallel-item {display: flex;flex-direction: column;z-index: 1;position: relative;background-color: white;}#sk-container-id-10 div.sk-parallel-item:first-child::after {align-self: flex-end;width: 50%;}#sk-container-id-10 div.sk-parallel-item:last-child::after {align-self: flex-start;width: 50%;}#sk-container-id-10 div.sk-parallel-item:only-child::after {width: 0;}#sk-container-id-10 div.sk-dashed-wrapped {border: 1px dashed gray;margin: 0 0.4em 0.5em 0.4em;box-sizing: border-box;padding-bottom: 0.4em;background-color: white;}#sk-container-id-10 div.sk-label label {font-family: monospace;font-weight: bold;display: inline-block;line-height: 1.2em;}#sk-container-id-10 div.sk-label-container {text-align: center;}#sk-container-id-10 div.sk-container {/* jupyter's `normalize.less` sets `[hidden] { display: none; }` but bootstrap.min.css set `[hidden] { display: none !important; }` so we also need the `!important` here to be able to override the default hidden behavior on the sphinx rendered scikit-learn.org. See: https://github.com/scikit-learn/scikit-learn/issues/21755 */display: inline-block !important;position: relative;}#sk-container-id-10 div.sk-text-repr-fallback {display: none;}</style><div id=\"sk-container-id-10\" class=\"sk-top-container\"><div class=\"sk-text-repr-fallback\"><pre>KNeighborsClassifier(n_neighbors=4)</pre><b>In a Jupyter environment, please rerun this cell to show the HTML representation or trust the notebook. <br />On GitHub, the HTML representation is unable to render, please try loading this page with nbviewer.org.</b></div><div class=\"sk-container\" hidden><div class=\"sk-item\"><div class=\"sk-estimator sk-toggleable\"><input class=\"sk-toggleable__control sk-hidden--visually\" id=\"sk-estimator-id-18\" type=\"checkbox\" checked><label for=\"sk-estimator-id-18\" class=\"sk-toggleable__label sk-toggleable__label-arrow\">KNeighborsClassifier</label><div class=\"sk-toggleable__content\"><pre>KNeighborsClassifier(n_neighbors=4)</pre></div></div></div></div></div>"
            ]
          },
          "metadata": {},
          "execution_count": 79
        }
      ]
    },
    {
      "cell_type": "code",
      "source": [
        "clf_1.classes_"
      ],
      "metadata": {
        "colab": {
          "base_uri": "https://localhost:8080/"
        },
        "id": "RQBEAyRZ541Y",
        "outputId": "1d885f7b-c774-4472-a820-0bd73d2f9197"
      },
      "execution_count": null,
      "outputs": [
        {
          "output_type": "execute_result",
          "data": {
            "text/plain": [
              "array(['Bipolar Type-1', 'Bipolar Type-2', 'Depression', 'Normal'],\n",
              "      dtype=object)"
            ]
          },
          "metadata": {},
          "execution_count": 80
        }
      ]
    },
    {
      "cell_type": "code",
      "source": [
        "from sklearn.model_selection import cross_val_score\n",
        "\n",
        "# Perform cross-validation on the KNN classifier\n",
        "clf_1_scores = cross_val_score(clf_1, X_train_prepared, y_train, cv=5)\n",
        "pd.Series(clf_1_scores).describe()"
      ],
      "metadata": {
        "colab": {
          "base_uri": "https://localhost:8080/"
        },
        "id": "X5XIaGF157Bg",
        "outputId": "1c449a52-9b2c-46fc-8ac8-84b400a36cf2"
      },
      "execution_count": null,
      "outputs": [
        {
          "output_type": "execute_result",
          "data": {
            "text/plain": [
              "count    5.000000\n",
              "mean     0.765359\n",
              "std      0.105018\n",
              "min      0.611111\n",
              "25%      0.722222\n",
              "50%      0.777778\n",
              "75%      0.833333\n",
              "max      0.882353\n",
              "dtype: float64"
            ]
          },
          "metadata": {},
          "execution_count": 81
        }
      ]
    },
    {
      "cell_type": "code",
      "source": [
        "from sklearn.tree import DecisionTreeClassifier\n",
        "\n",
        "# Initialize Decision Tree classifier\n",
        "clf_2 = DecisionTreeClassifier(random_state=42)\n",
        "\n",
        "# Train the classifier\n",
        "clf_2.fit(X_train_prepared, y_train)"
      ],
      "metadata": {
        "colab": {
          "base_uri": "https://localhost:8080/",
          "height": 75
        },
        "id": "tXQwI4u25-OA",
        "outputId": "ed5a2b0d-3745-4e5e-f4e6-3499fe27a7cb"
      },
      "execution_count": null,
      "outputs": [
        {
          "output_type": "execute_result",
          "data": {
            "text/plain": [
              "DecisionTreeClassifier(random_state=42)"
            ],
            "text/html": [
              "<style>#sk-container-id-11 {color: black;background-color: white;}#sk-container-id-11 pre{padding: 0;}#sk-container-id-11 div.sk-toggleable {background-color: white;}#sk-container-id-11 label.sk-toggleable__label {cursor: pointer;display: block;width: 100%;margin-bottom: 0;padding: 0.3em;box-sizing: border-box;text-align: center;}#sk-container-id-11 label.sk-toggleable__label-arrow:before {content: \"▸\";float: left;margin-right: 0.25em;color: #696969;}#sk-container-id-11 label.sk-toggleable__label-arrow:hover:before {color: black;}#sk-container-id-11 div.sk-estimator:hover label.sk-toggleable__label-arrow:before {color: black;}#sk-container-id-11 div.sk-toggleable__content {max-height: 0;max-width: 0;overflow: hidden;text-align: left;background-color: #f0f8ff;}#sk-container-id-11 div.sk-toggleable__content pre {margin: 0.2em;color: black;border-radius: 0.25em;background-color: #f0f8ff;}#sk-container-id-11 input.sk-toggleable__control:checked~div.sk-toggleable__content {max-height: 200px;max-width: 100%;overflow: auto;}#sk-container-id-11 input.sk-toggleable__control:checked~label.sk-toggleable__label-arrow:before {content: \"▾\";}#sk-container-id-11 div.sk-estimator input.sk-toggleable__control:checked~label.sk-toggleable__label {background-color: #d4ebff;}#sk-container-id-11 div.sk-label input.sk-toggleable__control:checked~label.sk-toggleable__label {background-color: #d4ebff;}#sk-container-id-11 input.sk-hidden--visually {border: 0;clip: rect(1px 1px 1px 1px);clip: rect(1px, 1px, 1px, 1px);height: 1px;margin: -1px;overflow: hidden;padding: 0;position: absolute;width: 1px;}#sk-container-id-11 div.sk-estimator {font-family: monospace;background-color: #f0f8ff;border: 1px dotted black;border-radius: 0.25em;box-sizing: border-box;margin-bottom: 0.5em;}#sk-container-id-11 div.sk-estimator:hover {background-color: #d4ebff;}#sk-container-id-11 div.sk-parallel-item::after {content: \"\";width: 100%;border-bottom: 1px solid gray;flex-grow: 1;}#sk-container-id-11 div.sk-label:hover label.sk-toggleable__label {background-color: #d4ebff;}#sk-container-id-11 div.sk-serial::before {content: \"\";position: absolute;border-left: 1px solid gray;box-sizing: border-box;top: 0;bottom: 0;left: 50%;z-index: 0;}#sk-container-id-11 div.sk-serial {display: flex;flex-direction: column;align-items: center;background-color: white;padding-right: 0.2em;padding-left: 0.2em;position: relative;}#sk-container-id-11 div.sk-item {position: relative;z-index: 1;}#sk-container-id-11 div.sk-parallel {display: flex;align-items: stretch;justify-content: center;background-color: white;position: relative;}#sk-container-id-11 div.sk-item::before, #sk-container-id-11 div.sk-parallel-item::before {content: \"\";position: absolute;border-left: 1px solid gray;box-sizing: border-box;top: 0;bottom: 0;left: 50%;z-index: -1;}#sk-container-id-11 div.sk-parallel-item {display: flex;flex-direction: column;z-index: 1;position: relative;background-color: white;}#sk-container-id-11 div.sk-parallel-item:first-child::after {align-self: flex-end;width: 50%;}#sk-container-id-11 div.sk-parallel-item:last-child::after {align-self: flex-start;width: 50%;}#sk-container-id-11 div.sk-parallel-item:only-child::after {width: 0;}#sk-container-id-11 div.sk-dashed-wrapped {border: 1px dashed gray;margin: 0 0.4em 0.5em 0.4em;box-sizing: border-box;padding-bottom: 0.4em;background-color: white;}#sk-container-id-11 div.sk-label label {font-family: monospace;font-weight: bold;display: inline-block;line-height: 1.2em;}#sk-container-id-11 div.sk-label-container {text-align: center;}#sk-container-id-11 div.sk-container {/* jupyter's `normalize.less` sets `[hidden] { display: none; }` but bootstrap.min.css set `[hidden] { display: none !important; }` so we also need the `!important` here to be able to override the default hidden behavior on the sphinx rendered scikit-learn.org. See: https://github.com/scikit-learn/scikit-learn/issues/21755 */display: inline-block !important;position: relative;}#sk-container-id-11 div.sk-text-repr-fallback {display: none;}</style><div id=\"sk-container-id-11\" class=\"sk-top-container\"><div class=\"sk-text-repr-fallback\"><pre>DecisionTreeClassifier(random_state=42)</pre><b>In a Jupyter environment, please rerun this cell to show the HTML representation or trust the notebook. <br />On GitHub, the HTML representation is unable to render, please try loading this page with nbviewer.org.</b></div><div class=\"sk-container\" hidden><div class=\"sk-item\"><div class=\"sk-estimator sk-toggleable\"><input class=\"sk-toggleable__control sk-hidden--visually\" id=\"sk-estimator-id-19\" type=\"checkbox\" checked><label for=\"sk-estimator-id-19\" class=\"sk-toggleable__label sk-toggleable__label-arrow\">DecisionTreeClassifier</label><div class=\"sk-toggleable__content\"><pre>DecisionTreeClassifier(random_state=42)</pre></div></div></div></div></div>"
            ]
          },
          "metadata": {},
          "execution_count": 82
        }
      ]
    },
    {
      "cell_type": "code",
      "source": [
        "clf_2.classes_"
      ],
      "metadata": {
        "colab": {
          "base_uri": "https://localhost:8080/"
        },
        "id": "lHyG-Qgc6CmS",
        "outputId": "dfcbdce0-325b-4907-aeff-3bdad01b27e5"
      },
      "execution_count": null,
      "outputs": [
        {
          "output_type": "execute_result",
          "data": {
            "text/plain": [
              "array(['Bipolar Type-1', 'Bipolar Type-2', 'Depression', 'Normal'],\n",
              "      dtype=object)"
            ]
          },
          "metadata": {},
          "execution_count": 83
        }
      ]
    },
    {
      "cell_type": "code",
      "source": [
        "print(clf_2.feature_importances_)"
      ],
      "metadata": {
        "colab": {
          "base_uri": "https://localhost:8080/"
        },
        "id": "VLT0fiUm6E4f",
        "outputId": "65d43596-1720-43c5-b91a-eb0376a5bf72"
      },
      "execution_count": null,
      "outputs": [
        {
          "output_type": "stream",
          "name": "stdout",
          "text": [
            "[0.42887127 0.         0.04938796 0.         0.         0.02252784\n",
            " 0.         0.         0.         0.03003712 0.05435289 0.\n",
            " 0.         0.         0.         0.         0.         0.\n",
            " 0.         0.27715275 0.         0.02252784 0.02027506 0.00600742\n",
            " 0.         0.01752166 0.         0.         0.01501856 0.\n",
            " 0.         0.         0.02896437 0.         0.         0.\n",
            " 0.         0.02735524 0.        ]\n"
          ]
        }
      ]
    },
    {
      "cell_type": "code",
      "source": [
        "# Perform cross-validation on the Decision Tree classifier\n",
        "clf_2_scores = cross_val_score(clf_2, X_train_prepared, y_train, cv=5)\n",
        "pd.Series(clf_2_scores).describe()\n"
      ],
      "metadata": {
        "colab": {
          "base_uri": "https://localhost:8080/"
        },
        "id": "YOKEKUmb6How",
        "outputId": "5a07bd5a-0263-4a22-a80b-52c2029bb2ad"
      },
      "execution_count": null,
      "outputs": [
        {
          "output_type": "execute_result",
          "data": {
            "text/plain": [
              "count    5.000000\n",
              "mean     0.775817\n",
              "std      0.053229\n",
              "min      0.722222\n",
              "25%      0.722222\n",
              "50%      0.777778\n",
              "75%      0.823529\n",
              "max      0.833333\n",
              "dtype: float64"
            ]
          },
          "metadata": {},
          "execution_count": 85
        }
      ]
    },
    {
      "cell_type": "code",
      "source": [
        "from sklearn.ensemble import RandomForestClassifier\n",
        "\n",
        "# Initialize Random Forest classifier with random_state=42\n",
        "\n",
        "#forest_reg = make_pipeline(preprocessing, RandomForestRegressor(random_state=42))\n",
        "clf_3 = RandomForestClassifier(random_state=42)\n",
        "\n",
        "# Perform cross-validation on the Random Forest classifier\n",
        "forest_rmses = cross_val_score(clf_3, X_train_prepared, y_train, cv=5)\n",
        "pd.Series(forest_rmses).describe()"
      ],
      "metadata": {
        "colab": {
          "base_uri": "https://localhost:8080/"
        },
        "id": "O4gw0NDT6NuR",
        "outputId": "b8ddcbdd-0574-4d85-a50a-ccb897dfb8db"
      },
      "execution_count": null,
      "outputs": [
        {
          "output_type": "execute_result",
          "data": {
            "text/plain": [
              "count    5.000000\n",
              "mean     0.877124\n",
              "std      0.045318\n",
              "min      0.833333\n",
              "25%      0.833333\n",
              "50%      0.888889\n",
              "75%      0.888889\n",
              "max      0.941176\n",
              "dtype: float64"
            ]
          },
          "metadata": {},
          "execution_count": 86
        }
      ]
    },
    {
      "cell_type": "code",
      "source": [
        "from sklearn.model_selection import GridSearchCV\n",
        "\n",
        "# Define the parameter grid for hyperparameter tuning\n",
        "\n",
        "param_grid = [\n",
        "    {\n",
        "        'n_estimators': [3, 10, 30],\n",
        "        'max_features': [4, 6, 8]\n",
        "     },\n",
        "\n",
        "    {\n",
        "        'bootstrap': [False],\n",
        "        'n_estimators': [3, 10],\n",
        "        'max_features': [2,3,4]\n",
        "     },\n",
        "]\n",
        "\n",
        "# Initialize GridSearchCV with the Random Forest classifier (clf_3) to find the best combination of hyperparameters that maximizes the model's performance.\n",
        "grid_search = GridSearchCV(clf_3, param_grid, cv=3, return_train_score=True)\n",
        "\n",
        "# Perform grid search on the training data\n",
        "grid_search.fit(X_train_prepared, y_train)"
      ],
      "metadata": {
        "colab": {
          "base_uri": "https://localhost:8080/",
          "height": 118
        },
        "id": "BNesW1OS6RNi",
        "outputId": "35390b1a-0a3f-4a4b-9940-fc512b526ffa"
      },
      "execution_count": null,
      "outputs": [
        {
          "output_type": "execute_result",
          "data": {
            "text/plain": [
              "GridSearchCV(cv=3, estimator=RandomForestClassifier(random_state=42),\n",
              "             param_grid=[{'max_features': [4, 6, 8],\n",
              "                          'n_estimators': [3, 10, 30]},\n",
              "                         {'bootstrap': [False], 'max_features': [2, 3, 4],\n",
              "                          'n_estimators': [3, 10]}],\n",
              "             return_train_score=True)"
            ],
            "text/html": [
              "<style>#sk-container-id-12 {color: black;background-color: white;}#sk-container-id-12 pre{padding: 0;}#sk-container-id-12 div.sk-toggleable {background-color: white;}#sk-container-id-12 label.sk-toggleable__label {cursor: pointer;display: block;width: 100%;margin-bottom: 0;padding: 0.3em;box-sizing: border-box;text-align: center;}#sk-container-id-12 label.sk-toggleable__label-arrow:before {content: \"▸\";float: left;margin-right: 0.25em;color: #696969;}#sk-container-id-12 label.sk-toggleable__label-arrow:hover:before {color: black;}#sk-container-id-12 div.sk-estimator:hover label.sk-toggleable__label-arrow:before {color: black;}#sk-container-id-12 div.sk-toggleable__content {max-height: 0;max-width: 0;overflow: hidden;text-align: left;background-color: #f0f8ff;}#sk-container-id-12 div.sk-toggleable__content pre {margin: 0.2em;color: black;border-radius: 0.25em;background-color: #f0f8ff;}#sk-container-id-12 input.sk-toggleable__control:checked~div.sk-toggleable__content {max-height: 200px;max-width: 100%;overflow: auto;}#sk-container-id-12 input.sk-toggleable__control:checked~label.sk-toggleable__label-arrow:before {content: \"▾\";}#sk-container-id-12 div.sk-estimator input.sk-toggleable__control:checked~label.sk-toggleable__label {background-color: #d4ebff;}#sk-container-id-12 div.sk-label input.sk-toggleable__control:checked~label.sk-toggleable__label {background-color: #d4ebff;}#sk-container-id-12 input.sk-hidden--visually {border: 0;clip: rect(1px 1px 1px 1px);clip: rect(1px, 1px, 1px, 1px);height: 1px;margin: -1px;overflow: hidden;padding: 0;position: absolute;width: 1px;}#sk-container-id-12 div.sk-estimator {font-family: monospace;background-color: #f0f8ff;border: 1px dotted black;border-radius: 0.25em;box-sizing: border-box;margin-bottom: 0.5em;}#sk-container-id-12 div.sk-estimator:hover {background-color: #d4ebff;}#sk-container-id-12 div.sk-parallel-item::after {content: \"\";width: 100%;border-bottom: 1px solid gray;flex-grow: 1;}#sk-container-id-12 div.sk-label:hover label.sk-toggleable__label {background-color: #d4ebff;}#sk-container-id-12 div.sk-serial::before {content: \"\";position: absolute;border-left: 1px solid gray;box-sizing: border-box;top: 0;bottom: 0;left: 50%;z-index: 0;}#sk-container-id-12 div.sk-serial {display: flex;flex-direction: column;align-items: center;background-color: white;padding-right: 0.2em;padding-left: 0.2em;position: relative;}#sk-container-id-12 div.sk-item {position: relative;z-index: 1;}#sk-container-id-12 div.sk-parallel {display: flex;align-items: stretch;justify-content: center;background-color: white;position: relative;}#sk-container-id-12 div.sk-item::before, #sk-container-id-12 div.sk-parallel-item::before {content: \"\";position: absolute;border-left: 1px solid gray;box-sizing: border-box;top: 0;bottom: 0;left: 50%;z-index: -1;}#sk-container-id-12 div.sk-parallel-item {display: flex;flex-direction: column;z-index: 1;position: relative;background-color: white;}#sk-container-id-12 div.sk-parallel-item:first-child::after {align-self: flex-end;width: 50%;}#sk-container-id-12 div.sk-parallel-item:last-child::after {align-self: flex-start;width: 50%;}#sk-container-id-12 div.sk-parallel-item:only-child::after {width: 0;}#sk-container-id-12 div.sk-dashed-wrapped {border: 1px dashed gray;margin: 0 0.4em 0.5em 0.4em;box-sizing: border-box;padding-bottom: 0.4em;background-color: white;}#sk-container-id-12 div.sk-label label {font-family: monospace;font-weight: bold;display: inline-block;line-height: 1.2em;}#sk-container-id-12 div.sk-label-container {text-align: center;}#sk-container-id-12 div.sk-container {/* jupyter's `normalize.less` sets `[hidden] { display: none; }` but bootstrap.min.css set `[hidden] { display: none !important; }` so we also need the `!important` here to be able to override the default hidden behavior on the sphinx rendered scikit-learn.org. See: https://github.com/scikit-learn/scikit-learn/issues/21755 */display: inline-block !important;position: relative;}#sk-container-id-12 div.sk-text-repr-fallback {display: none;}</style><div id=\"sk-container-id-12\" class=\"sk-top-container\"><div class=\"sk-text-repr-fallback\"><pre>GridSearchCV(cv=3, estimator=RandomForestClassifier(random_state=42),\n",
              "             param_grid=[{&#x27;max_features&#x27;: [4, 6, 8],\n",
              "                          &#x27;n_estimators&#x27;: [3, 10, 30]},\n",
              "                         {&#x27;bootstrap&#x27;: [False], &#x27;max_features&#x27;: [2, 3, 4],\n",
              "                          &#x27;n_estimators&#x27;: [3, 10]}],\n",
              "             return_train_score=True)</pre><b>In a Jupyter environment, please rerun this cell to show the HTML representation or trust the notebook. <br />On GitHub, the HTML representation is unable to render, please try loading this page with nbviewer.org.</b></div><div class=\"sk-container\" hidden><div class=\"sk-item sk-dashed-wrapped\"><div class=\"sk-label-container\"><div class=\"sk-label sk-toggleable\"><input class=\"sk-toggleable__control sk-hidden--visually\" id=\"sk-estimator-id-20\" type=\"checkbox\" ><label for=\"sk-estimator-id-20\" class=\"sk-toggleable__label sk-toggleable__label-arrow\">GridSearchCV</label><div class=\"sk-toggleable__content\"><pre>GridSearchCV(cv=3, estimator=RandomForestClassifier(random_state=42),\n",
              "             param_grid=[{&#x27;max_features&#x27;: [4, 6, 8],\n",
              "                          &#x27;n_estimators&#x27;: [3, 10, 30]},\n",
              "                         {&#x27;bootstrap&#x27;: [False], &#x27;max_features&#x27;: [2, 3, 4],\n",
              "                          &#x27;n_estimators&#x27;: [3, 10]}],\n",
              "             return_train_score=True)</pre></div></div></div><div class=\"sk-parallel\"><div class=\"sk-parallel-item\"><div class=\"sk-item\"><div class=\"sk-label-container\"><div class=\"sk-label sk-toggleable\"><input class=\"sk-toggleable__control sk-hidden--visually\" id=\"sk-estimator-id-21\" type=\"checkbox\" ><label for=\"sk-estimator-id-21\" class=\"sk-toggleable__label sk-toggleable__label-arrow\">estimator: RandomForestClassifier</label><div class=\"sk-toggleable__content\"><pre>RandomForestClassifier(random_state=42)</pre></div></div></div><div class=\"sk-serial\"><div class=\"sk-item\"><div class=\"sk-estimator sk-toggleable\"><input class=\"sk-toggleable__control sk-hidden--visually\" id=\"sk-estimator-id-22\" type=\"checkbox\" ><label for=\"sk-estimator-id-22\" class=\"sk-toggleable__label sk-toggleable__label-arrow\">RandomForestClassifier</label><div class=\"sk-toggleable__content\"><pre>RandomForestClassifier(random_state=42)</pre></div></div></div></div></div></div></div></div></div></div>"
            ]
          },
          "metadata": {},
          "execution_count": 87
        }
      ]
    },
    {
      "cell_type": "code",
      "source": [
        "grid_search.best_estimator_"
      ],
      "metadata": {
        "colab": {
          "base_uri": "https://localhost:8080/",
          "height": 75
        },
        "id": "b11P2fxd6iI6",
        "outputId": "7b5992f7-6cf2-4444-f798-f844a717f0e3"
      },
      "execution_count": null,
      "outputs": [
        {
          "output_type": "execute_result",
          "data": {
            "text/plain": [
              "RandomForestClassifier(max_features=8, n_estimators=30, random_state=42)"
            ],
            "text/html": [
              "<style>#sk-container-id-13 {color: black;background-color: white;}#sk-container-id-13 pre{padding: 0;}#sk-container-id-13 div.sk-toggleable {background-color: white;}#sk-container-id-13 label.sk-toggleable__label {cursor: pointer;display: block;width: 100%;margin-bottom: 0;padding: 0.3em;box-sizing: border-box;text-align: center;}#sk-container-id-13 label.sk-toggleable__label-arrow:before {content: \"▸\";float: left;margin-right: 0.25em;color: #696969;}#sk-container-id-13 label.sk-toggleable__label-arrow:hover:before {color: black;}#sk-container-id-13 div.sk-estimator:hover label.sk-toggleable__label-arrow:before {color: black;}#sk-container-id-13 div.sk-toggleable__content {max-height: 0;max-width: 0;overflow: hidden;text-align: left;background-color: #f0f8ff;}#sk-container-id-13 div.sk-toggleable__content pre {margin: 0.2em;color: black;border-radius: 0.25em;background-color: #f0f8ff;}#sk-container-id-13 input.sk-toggleable__control:checked~div.sk-toggleable__content {max-height: 200px;max-width: 100%;overflow: auto;}#sk-container-id-13 input.sk-toggleable__control:checked~label.sk-toggleable__label-arrow:before {content: \"▾\";}#sk-container-id-13 div.sk-estimator input.sk-toggleable__control:checked~label.sk-toggleable__label {background-color: #d4ebff;}#sk-container-id-13 div.sk-label input.sk-toggleable__control:checked~label.sk-toggleable__label {background-color: #d4ebff;}#sk-container-id-13 input.sk-hidden--visually {border: 0;clip: rect(1px 1px 1px 1px);clip: rect(1px, 1px, 1px, 1px);height: 1px;margin: -1px;overflow: hidden;padding: 0;position: absolute;width: 1px;}#sk-container-id-13 div.sk-estimator {font-family: monospace;background-color: #f0f8ff;border: 1px dotted black;border-radius: 0.25em;box-sizing: border-box;margin-bottom: 0.5em;}#sk-container-id-13 div.sk-estimator:hover {background-color: #d4ebff;}#sk-container-id-13 div.sk-parallel-item::after {content: \"\";width: 100%;border-bottom: 1px solid gray;flex-grow: 1;}#sk-container-id-13 div.sk-label:hover label.sk-toggleable__label {background-color: #d4ebff;}#sk-container-id-13 div.sk-serial::before {content: \"\";position: absolute;border-left: 1px solid gray;box-sizing: border-box;top: 0;bottom: 0;left: 50%;z-index: 0;}#sk-container-id-13 div.sk-serial {display: flex;flex-direction: column;align-items: center;background-color: white;padding-right: 0.2em;padding-left: 0.2em;position: relative;}#sk-container-id-13 div.sk-item {position: relative;z-index: 1;}#sk-container-id-13 div.sk-parallel {display: flex;align-items: stretch;justify-content: center;background-color: white;position: relative;}#sk-container-id-13 div.sk-item::before, #sk-container-id-13 div.sk-parallel-item::before {content: \"\";position: absolute;border-left: 1px solid gray;box-sizing: border-box;top: 0;bottom: 0;left: 50%;z-index: -1;}#sk-container-id-13 div.sk-parallel-item {display: flex;flex-direction: column;z-index: 1;position: relative;background-color: white;}#sk-container-id-13 div.sk-parallel-item:first-child::after {align-self: flex-end;width: 50%;}#sk-container-id-13 div.sk-parallel-item:last-child::after {align-self: flex-start;width: 50%;}#sk-container-id-13 div.sk-parallel-item:only-child::after {width: 0;}#sk-container-id-13 div.sk-dashed-wrapped {border: 1px dashed gray;margin: 0 0.4em 0.5em 0.4em;box-sizing: border-box;padding-bottom: 0.4em;background-color: white;}#sk-container-id-13 div.sk-label label {font-family: monospace;font-weight: bold;display: inline-block;line-height: 1.2em;}#sk-container-id-13 div.sk-label-container {text-align: center;}#sk-container-id-13 div.sk-container {/* jupyter's `normalize.less` sets `[hidden] { display: none; }` but bootstrap.min.css set `[hidden] { display: none !important; }` so we also need the `!important` here to be able to override the default hidden behavior on the sphinx rendered scikit-learn.org. See: https://github.com/scikit-learn/scikit-learn/issues/21755 */display: inline-block !important;position: relative;}#sk-container-id-13 div.sk-text-repr-fallback {display: none;}</style><div id=\"sk-container-id-13\" class=\"sk-top-container\"><div class=\"sk-text-repr-fallback\"><pre>RandomForestClassifier(max_features=8, n_estimators=30, random_state=42)</pre><b>In a Jupyter environment, please rerun this cell to show the HTML representation or trust the notebook. <br />On GitHub, the HTML representation is unable to render, please try loading this page with nbviewer.org.</b></div><div class=\"sk-container\" hidden><div class=\"sk-item\"><div class=\"sk-estimator sk-toggleable\"><input class=\"sk-toggleable__control sk-hidden--visually\" id=\"sk-estimator-id-23\" type=\"checkbox\" checked><label for=\"sk-estimator-id-23\" class=\"sk-toggleable__label sk-toggleable__label-arrow\">RandomForestClassifier</label><div class=\"sk-toggleable__content\"><pre>RandomForestClassifier(max_features=8, n_estimators=30, random_state=42)</pre></div></div></div></div></div>"
            ]
          },
          "metadata": {},
          "execution_count": 88
        }
      ]
    },
    {
      "cell_type": "code",
      "source": [
        "# Assign the best estimator from grid search to final_model\n",
        "final_model = grid_search.best_estimator_\n",
        "\n",
        "# Extract feature importances from the final model\n",
        "feature_importances = final_model.feature_importances_\n",
        "feature_importances.round(2)\n"
      ],
      "metadata": {
        "colab": {
          "base_uri": "https://localhost:8080/"
        },
        "id": "yuSL-LPf6neg",
        "outputId": "7ff845c1-4a1d-4eb7-9466-0e0fe0b54f2e"
      },
      "execution_count": null,
      "outputs": [
        {
          "output_type": "execute_result",
          "data": {
            "text/plain": [
              "array([0.17, 0.02, 0.09, 0.01, 0.02, 0.03, 0.01, 0.01, 0.01, 0.01, 0.03,\n",
              "       0.  , 0.01, 0.04, 0.  , 0.  , 0.01, 0.01, 0.01, 0.13, 0.15, 0.03,\n",
              "       0.02, 0.01, 0.01, 0.02, 0.02, 0.01, 0.01, 0.01, 0.01, 0.01, 0.01,\n",
              "       0.01, 0.01, 0.01, 0.01, 0.01, 0.01])"
            ]
          },
          "metadata": {},
          "execution_count": 89
        }
      ]
    },
    {
      "cell_type": "code",
      "source": [
        "# Transform the test data using the full pipeline\n",
        "X_test_prepared = full_pipeline.transform(X_test)\n",
        "\n",
        "# Make predictions using the final model\n",
        "y_predictions = final_model.predict(X_test_prepared)\n"
      ],
      "metadata": {
        "id": "QEEKW88t93wU"
      },
      "execution_count": null,
      "outputs": []
    },
    {
      "cell_type": "code",
      "source": [
        "# Display the predictions\n",
        "y_predictions"
      ],
      "metadata": {
        "colab": {
          "base_uri": "https://localhost:8080/"
        },
        "id": "outmTWEM97Vc",
        "outputId": "06be498e-c858-45ee-c394-6b4a95431a25"
      },
      "execution_count": null,
      "outputs": [
        {
          "output_type": "execute_result",
          "data": {
            "text/plain": [
              "array(['Bipolar Type-2', 'Depression', 'Bipolar Type-2', 'Bipolar Type-2',\n",
              "       'Bipolar Type-2', 'Depression', 'Bipolar Type-1', 'Bipolar Type-2',\n",
              "       'Bipolar Type-1', 'Bipolar Type-2', 'Normal', 'Bipolar Type-2',\n",
              "       'Depression', 'Normal', 'Bipolar Type-1', 'Bipolar Type-1',\n",
              "       'Bipolar Type-2', 'Depression', 'Normal', 'Normal',\n",
              "       'Bipolar Type-2', 'Normal', 'Bipolar Type-2'], dtype=object)"
            ]
          },
          "metadata": {},
          "execution_count": 91
        }
      ]
    },
    {
      "cell_type": "code",
      "source": [
        "# Predict class probabilities for the test data\n",
        "y_predictions_prob = final_model.predict_proba(X_test_prepared)\n",
        "y_predictions_prob"
      ],
      "metadata": {
        "colab": {
          "base_uri": "https://localhost:8080/"
        },
        "id": "OUhRz6oK99Ut",
        "outputId": "a8e31f6d-b775-4d9b-e23b-c83f04575b49"
      },
      "execution_count": null,
      "outputs": [
        {
          "output_type": "execute_result",
          "data": {
            "text/plain": [
              "array([[0.1       , 0.86666667, 0.03333333, 0.        ],\n",
              "       [0.        , 0.        , 1.        , 0.        ],\n",
              "       [0.4       , 0.56666667, 0.03333333, 0.        ],\n",
              "       [0.33333333, 0.63333333, 0.        , 0.03333333],\n",
              "       [0.2       , 0.73333333, 0.        , 0.06666667],\n",
              "       [0.        , 0.03333333, 0.9       , 0.06666667],\n",
              "       [0.46666667, 0.3       , 0.03333333, 0.2       ],\n",
              "       [0.2       , 0.56666667, 0.03333333, 0.2       ],\n",
              "       [0.5       , 0.23333333, 0.03333333, 0.23333333],\n",
              "       [0.2       , 0.73333333, 0.        , 0.06666667],\n",
              "       [0.16666667, 0.06666667, 0.06666667, 0.7       ],\n",
              "       [0.1       , 0.9       , 0.        , 0.        ],\n",
              "       [0.        , 0.03333333, 0.93333333, 0.03333333],\n",
              "       [0.06666667, 0.        , 0.06666667, 0.86666667],\n",
              "       [0.93333333, 0.        , 0.        , 0.06666667],\n",
              "       [0.8       , 0.2       , 0.        , 0.        ],\n",
              "       [0.03333333, 0.83333333, 0.03333333, 0.1       ],\n",
              "       [0.03333333, 0.03333333, 0.73333333, 0.2       ],\n",
              "       [0.        , 0.        , 0.        , 1.        ],\n",
              "       [0.06666667, 0.        , 0.13333333, 0.8       ],\n",
              "       [0.3       , 0.63333333, 0.06666667, 0.        ],\n",
              "       [0.26666667, 0.33333333, 0.        , 0.4       ],\n",
              "       [0.06666667, 0.86666667, 0.06666667, 0.        ]])"
            ]
          },
          "metadata": {},
          "execution_count": 92
        }
      ]
    },
    {
      "cell_type": "code",
      "source": [
        "# Count the number of instances for each class in the test set\n",
        "\n",
        "print(\"Bipolar Type-2\", str(len(y_test[y_test==\"Bipolar Type-2\"])))\n",
        "print(\"Bipolar Type-1\", str(len(y_test[y_test==\"Bipolar Type-1\"])))\n",
        "print(\"Depression\", str(len(y_test[y_test==\"Depression\"])))\n",
        "print(\"Normal\", str(len(y_test[y_test==\"Normal\"])))"
      ],
      "metadata": {
        "colab": {
          "base_uri": "https://localhost:8080/"
        },
        "id": "TKP3giLN-Bs9",
        "outputId": "9c0fcfe6-8c81-41ce-dd43-4c4146703d69"
      },
      "execution_count": null,
      "outputs": [
        {
          "output_type": "stream",
          "name": "stdout",
          "text": [
            "Bipolar Type-2 8\n",
            "Bipolar Type-1 7\n",
            "Depression 5\n",
            "Normal 3\n"
          ]
        }
      ]
    },
    {
      "cell_type": "code",
      "source": [
        "from sklearn.metrics import confusion_matrix, ConfusionMatrixDisplay\n",
        "\n",
        "# Compute the confusion matrix and plots it\n",
        "cm = confusion_matrix(y_test, y_predictions, labels=[\"Bipolar Type-2\", \"Bipolar Type-1\", \"Depression\", \"Normal\"])\n",
        "disp = ConfusionMatrixDisplay(confusion_matrix=cm,display_labels=[\"Bipolar Type-2\", \"Bipolar Type-1\", \"Depression\", \"Normal\"])\n",
        "disp.plot()"
      ],
      "metadata": {
        "colab": {
          "base_uri": "https://localhost:8080/",
          "height": 473
        },
        "id": "qW7u4BN8-iTz",
        "outputId": "8075271d-1d03-4479-bf21-7c0c58e6fea0"
      },
      "execution_count": null,
      "outputs": [
        {
          "output_type": "execute_result",
          "data": {
            "text/plain": [
              "<sklearn.metrics._plot.confusion_matrix.ConfusionMatrixDisplay at 0x7f31a034bbe0>"
            ]
          },
          "metadata": {},
          "execution_count": 94
        },
        {
          "output_type": "display_data",
          "data": {
            "text/plain": [
              "<Figure size 640x480 with 2 Axes>"
            ],
            "image/png": "[encoded data removed]"
          },
          "metadata": {}
        }
      ]
    },
    {
      "cell_type": "code",
      "source": [
        "from sklearn.metrics import accuracy_score\n",
        "\n",
        "# Calculate the accuracy score\n",
        "accuracy_score(y_test, y_predictions)"
      ],
      "metadata": {
        "colab": {
          "base_uri": "https://localhost:8080/"
        },
        "id": "GlU2i3p4_GmZ",
        "outputId": "3b93795e-8389-4029-aaac-5546cc6f05fc"
      },
      "execution_count": null,
      "outputs": [
        {
          "output_type": "execute_result",
          "data": {
            "text/plain": [
              "0.8260869565217391"
            ]
          },
          "metadata": {},
          "execution_count": 95
        }
      ]
    },
    {
      "cell_type": "code",
      "source": [
        "from sklearn.metrics import precision_score\n",
        "\n",
        "# Calculate the precission score\n",
        "precision_score(y_test, y_predictions, average='weighted')"
      ],
      "metadata": {
        "colab": {
          "base_uri": "https://localhost:8080/"
        },
        "id": "PvKZ7TvE_Hwl",
        "outputId": "00df3f27-7d33-438f-f3a2-3f6900667bc5"
      },
      "execution_count": null,
      "outputs": [
        {
          "output_type": "execute_result",
          "data": {
            "text/plain": [
              "0.8782608695652173"
            ]
          },
          "metadata": {},
          "execution_count": 96
        }
      ]
    },
    {
      "cell_type": "code",
      "source": [
        "from sklearn.metrics import recall_score\n",
        "\n",
        "# Calculate the recall score\n",
        "recall_score(y_test, y_predictions, average='weighted')"
      ],
      "metadata": {
        "colab": {
          "base_uri": "https://localhost:8080/"
        },
        "id": "EdPwx8xd_KF2",
        "outputId": "0e2b2846-73f1-455d-e41a-2593b7372e09"
      },
      "execution_count": null,
      "outputs": [
        {
          "output_type": "execute_result",
          "data": {
            "text/plain": [
              "0.8260869565217391"
            ]
          },
          "metadata": {},
          "execution_count": 97
        }
      ]
    },
    {
      "cell_type": "code",
      "source": [
        "from sklearn.metrics import classification_report\n",
        "target_names = [\"Bipolar Type-2\", \"Bipolar Type-1\", \"Depression\", \"Normal\"]\n",
        "print(classification_report(y_test, y_predictions, target_names=target_names))"
      ],
      "metadata": {
        "colab": {
          "base_uri": "https://localhost:8080/"
        },
        "id": "m-UMTL4n_M0d",
        "outputId": "06737ab8-d689-48c5-f08e-3d98f998b2d5"
      },
      "execution_count": null,
      "outputs": [
        {
          "output_type": "stream",
          "name": "stdout",
          "text": [
            "                precision    recall  f1-score   support\n",
            "\n",
            "Bipolar Type-2       1.00      0.57      0.73         7\n",
            "Bipolar Type-1       0.80      1.00      0.89         8\n",
            "    Depression       1.00      0.80      0.89         5\n",
            "        Normal       0.60      1.00      0.75         3\n",
            "\n",
            "      accuracy                           0.83        23\n",
            "     macro avg       0.85      0.84      0.81        23\n",
            "  weighted avg       0.88      0.83      0.82        23\n",
            "\n"
          ]
        }
      ]
    },
    {
      "cell_type": "code",
      "source": [
        "import joblib\n",
        "\n",
        "joblib.dump(final_model, \"Mental_Disorder_CLF_model.pkl\")"
      ],
      "metadata": {
        "colab": {
          "base_uri": "https://localhost:8080/"
        },
        "id": "A0WepZXH_ivO",
        "outputId": "59ee77b4-119f-4a2c-87ac-feeb644affc3"
      },
      "execution_count": null,
      "outputs": [
        {
          "output_type": "execute_result",
          "data": {
            "text/plain": [
              "['Mental_Disorder_CLF_model.pkl']"
            ]
          },
          "metadata": {},
          "execution_count": 99
        }
      ]
    },
    {
      "cell_type": "markdown",
      "source": [
        "## Wine Quality dataset\n",
        "\n",
        "The [Wine Quality](https://archive.ics.uci.edu/ml/datasets/wine+quality) dataset consists of a set of 11 input parameters (acidity, sugar content, alcohol level, etc) and a single output (\"quality\" as assessed by expert tasters). The white wine dataset, with a total of 4898 samples, is selected for this problem.\n",
        "\n",
        "The wine quality dataset is larger than the mental health disrder datasets, there are a number of challenges to overcome:\n",
        "- Not all inputs are necessarily relevant, and some may be correlated. Part of your experimentation should be determining which inputs to use.\n",
        "- The dataset is not pre-split into test/train/validation sets.\n",
        "- The input parameters are not on the same scale, so they require preprocessing.\n",
        "- The output can be treated as either a regression problem (predict a continuous value from 0 to 9) or as a classification problem.\n",
        "- The output classes are unbalanced. You will have to address this through appropriate choice of loss metric or resampling.\n",
        "\n",
        "Train a regression model OR a 3-class classifier (low, medium, high quality). To train a 3-class classifier, you must re-label the data. You may choose the cut-off points for each class."
      ],
      "metadata": {
        "id": "FvkkmhAwhBJQ"
      }
    },
    {
      "cell_type": "code",
      "source": [
        "white_wine_csv = 'https://archive.ics.uci.edu/ml/machine-learning-databases/wine-quality/winequality-white.csv'\n",
        "wine_data = pd.read_csv(white_wine_csv, sep=';')\n",
        "\n",
        "# Inspect the dataset\n",
        "wine_data.info()\n",
        "wine_data.head()"
      ],
      "metadata": {
        "id": "h4dfU9HyP69L",
        "colab": {
          "base_uri": "https://localhost:8080/",
          "height": 546
        },
        "outputId": "f72dfbf9-c214-4c8d-91d4-ab132f7e2791"
      },
      "execution_count": null,
      "outputs": [
        {
          "output_type": "stream",
          "name": "stdout",
          "text": [
            "<class 'pandas.core.frame.DataFrame'>\n",
            "RangeIndex: 4898 entries, 0 to 4897\n",
            "Data columns (total 12 columns):\n",
            " #   Column                Non-Null Count  Dtype  \n",
            "---  ------                --------------  -----  \n",
            " 0   fixed acidity         4898 non-null   float64\n",
            " 1   volatile acidity      4898 non-null   float64\n",
            " 2   citric acid           4898 non-null   float64\n",
            " 3   residual sugar        4898 non-null   float64\n",
            " 4   chlorides             4898 non-null   float64\n",
            " 5   free sulfur dioxide   4898 non-null   float64\n",
            " 6   total sulfur dioxide  4898 non-null   float64\n",
            " 7   density               4898 non-null   float64\n",
            " 8   pH                    4898 non-null   float64\n",
            " 9   sulphates             4898 non-null   float64\n",
            " 10  alcohol               4898 non-null   float64\n",
            " 11  quality               4898 non-null   int64  \n",
            "dtypes: float64(11), int64(1)\n",
            "memory usage: 459.3 KB\n"
          ]
        },
        {
          "output_type": "execute_result",
          "data": {
            "text/plain": [
              "   fixed acidity  volatile acidity  citric acid  residual sugar  chlorides  \\\n",
              "0            7.0              0.27         0.36            20.7      0.045   \n",
              "1            6.3              0.30         0.34             1.6      0.049   \n",
              "2            8.1              0.28         0.40             6.9      0.050   \n",
              "3            7.2              0.23         0.32             8.5      0.058   \n",
              "4            7.2              0.23         0.32             8.5      0.058   \n",
              "\n",
              "   free sulfur dioxide  total sulfur dioxide  density    pH  sulphates  \\\n",
              "0                 45.0                 170.0   1.0010  3.00       0.45   \n",
              "1                 14.0                 132.0   0.9940  3.30       0.49   \n",
              "2                 30.0                  97.0   0.9951  3.26       0.44   \n",
              "3                 47.0                 186.0   0.9956  3.19       0.40   \n",
              "4                 47.0                 186.0   0.9956  3.19       0.40   \n",
              "\n",
              "   alcohol  quality  \n",
              "0      8.8        6  \n",
              "1      9.5        6  \n",
              "2     10.1        6  \n",
              "3      9.9        6  \n",
              "4      9.9        6  "
            ],
            "text/html": [
              "\n",
              "  <div id=\"df-1678d955-dcf3-4ada-8526-ca69322ea540\" class=\"colab-df-container\">\n",
              "    <div>\n",
              "<style scoped>\n",
              "    .dataframe tbody tr th:only-of-type {\n",
              "        vertical-align: middle;\n",
              "    }\n",
              "\n",
              "    .dataframe tbody tr th {\n",
              "        vertical-align: top;\n",
              "    }\n",
              "\n",
              "    .dataframe thead th {\n",
              "        text-align: right;\n",
              "    }\n",
              "</style>\n",
              "<table border=\"1\" class=\"dataframe\">\n",
              "  <thead>\n",
              "    <tr style=\"text-align: right;\">\n",
              "      <th></th>\n",
              "      <th>fixed acidity</th>\n",
              "      <th>volatile acidity</th>\n",
              "      <th>citric acid</th>\n",
              "      <th>residual sugar</th>\n",
              "      <th>chlorides</th>\n",
              "      <th>free sulfur dioxide</th>\n",
              "      <th>total sulfur dioxide</th>\n",
              "      <th>density</th>\n",
              "      <th>pH</th>\n",
              "      <th>sulphates</th>\n",
              "      <th>alcohol</th>\n",
              "      <th>quality</th>\n",
              "    </tr>\n",
              "  </thead>\n",
              "  <tbody>\n",
              "    <tr>\n",
              "      <th>0</th>\n",
              "      <td>7.0</td>\n",
              "      <td>0.27</td>\n",
              "      <td>0.36</td>\n",
              "      <td>20.7</td>\n",
              "      <td>0.045</td>\n",
              "      <td>45.0</td>\n",
              "      <td>170.0</td>\n",
              "      <td>1.0010</td>\n",
              "      <td>3.00</td>\n",
              "      <td>0.45</td>\n",
              "      <td>8.8</td>\n",
              "      <td>6</td>\n",
              "    </tr>\n",
              "    <tr>\n",
              "      <th>1</th>\n",
              "      <td>6.3</td>\n",
              "      <td>0.30</td>\n",
              "      <td>0.34</td>\n",
              "      <td>1.6</td>\n",
              "      <td>0.049</td>\n",
              "      <td>14.0</td>\n",
              "      <td>132.0</td>\n",
              "      <td>0.9940</td>\n",
              "      <td>3.30</td>\n",
              "      <td>0.49</td>\n",
              "      <td>9.5</td>\n",
              "      <td>6</td>\n",
              "    </tr>\n",
              "    <tr>\n",
              "      <th>2</th>\n",
              "      <td>8.1</td>\n",
              "      <td>0.28</td>\n",
              "      <td>0.40</td>\n",
              "      <td>6.9</td>\n",
              "      <td>0.050</td>\n",
              "      <td>30.0</td>\n",
              "      <td>97.0</td>\n",
              "      <td>0.9951</td>\n",
              "      <td>3.26</td>\n",
              "      <td>0.44</td>\n",
              "      <td>10.1</td>\n",
              "      <td>6</td>\n",
              "    </tr>\n",
              "    <tr>\n",
              "      <th>3</th>\n",
              "      <td>7.2</td>\n",
              "      <td>0.23</td>\n",
              "      <td>0.32</td>\n",
              "      <td>8.5</td>\n",
              "      <td>0.058</td>\n",
              "      <td>47.0</td>\n",
              "      <td>186.0</td>\n",
              "      <td>0.9956</td>\n",
              "      <td>3.19</td>\n",
              "      <td>0.40</td>\n",
              "      <td>9.9</td>\n",
              "      <td>6</td>\n",
              "    </tr>\n",
              "    <tr>\n",
              "      <th>4</th>\n",
              "      <td>7.2</td>\n",
              "      <td>0.23</td>\n",
              "      <td>0.32</td>\n",
              "      <td>8.5</td>\n",
              "      <td>0.058</td>\n",
              "      <td>47.0</td>\n",
              "      <td>186.0</td>\n",
              "      <td>0.9956</td>\n",
              "      <td>3.19</td>\n",
              "      <td>0.40</td>\n",
              "      <td>9.9</td>\n",
              "      <td>6</td>\n",
              "    </tr>\n",
              "  </tbody>\n",
              "</table>\n",
              "</div>\n",
              "    <div class=\"colab-df-buttons\">\n",
              "\n",
              "  <div class=\"colab-df-container\">\n",
              "    <button class=\"colab-df-convert\" onclick=\"convertToInteractive('df-1678d955-dcf3-4ada-8526-ca69322ea540')\"\n",
              "            title=\"Convert this dataframe to an interactive table.\"\n",
              "            style=\"display:none;\">\n",
              "\n",
              "  <svg xmlns=\"http://www.w3.org/2000/svg\" height=\"24px\" viewBox=\"0 -960 960 960\">\n",
              "    <path d=\"M120-120v-720h720v720H120Zm60-500h600v-160H180v160Zm220 220h160v-160H400v160Zm0 220h160v-160H400v160ZM180-400h160v-160H180v160Zm440 0h160v-160H620v160ZM180-180h160v-160H180v160Zm440 0h160v-160H620v160Z\"/>\n",
              "  </svg>\n",
              "    </button>\n",
              "\n",
              "  <style>\n",
              "    .colab-df-container {\n",
              "      display:flex;\n",
              "      gap: 12px;\n",
              "    }\n",
              "\n",
              "    .colab-df-convert {\n",
              "      background-color: #E8F0FE;\n",
              "      border: none;\n",
              "      border-radius: 50%;\n",
              "      cursor: pointer;\n",
              "      display: none;\n",
              "      fill: #1967D2;\n",
              "      height: 32px;\n",
              "      padding: 0 0 0 0;\n",
              "      width: 32px;\n",
              "    }\n",
              "\n",
              "    .colab-df-convert:hover {\n",
              "      background-color: #E2EBFA;\n",
              "      box-shadow: 0px 1px 2px rgba(60, 64, 67, 0.3), 0px 1px 3px 1px rgba(60, 64, 67, 0.15);\n",
              "      fill: #174EA6;\n",
              "    }\n",
              "\n",
              "    .colab-df-buttons div {\n",
              "      margin-bottom: 4px;\n",
              "    }\n",
              "\n",
              "    [theme=dark] .colab-df-convert {\n",
              "      background-color: #3B4455;\n",
              "      fill: #D2E3FC;\n",
              "    }\n",
              "\n",
              "    [theme=dark] .colab-df-convert:hover {\n",
              "      background-color: #434B5C;\n",
              "      box-shadow: 0px 1px 3px 1px rgba(0, 0, 0, 0.15);\n",
              "      filter: drop-shadow(0px 1px 2px rgba(0, 0, 0, 0.3));\n",
              "      fill: #FFFFFF;\n",
              "    }\n",
              "  </style>\n",
              "\n",
              "    <script>\n",
              "      const buttonEl =\n",
              "        document.querySelector('#df-1678d955-dcf3-4ada-8526-ca69322ea540 button.colab-df-convert');\n",
              "      buttonEl.style.display =\n",
              "        google.colab.kernel.accessAllowed ? 'block' : 'none';\n",
              "\n",
              "      async function convertToInteractive(key) {\n",
              "        const element = document.querySelector('#df-1678d955-dcf3-4ada-8526-ca69322ea540');\n",
              "        const dataTable =\n",
              "          await google.colab.kernel.invokeFunction('convertToInteractive',\n",
              "                                                    [key], {});\n",
              "        if (!dataTable) return;\n",
              "\n",
              "        const docLinkHtml = 'Like what you see? Visit the ' +\n",
              "          '<a target=\"_blank\" href=https://colab.research.google.com/notebooks/data_table.ipynb>data table notebook</a>'\n",
              "          + ' to learn more about interactive tables.';\n",
              "        element.innerHTML = '';\n",
              "        dataTable['output_type'] = 'display_data';\n",
              "        await google.colab.output.renderOutput(dataTable, element);\n",
              "        const docLink = document.createElement('div');\n",
              "        docLink.innerHTML = docLinkHtml;\n",
              "        element.appendChild(docLink);\n",
              "      }\n",
              "    </script>\n",
              "  </div>\n",
              "\n",
              "\n",
              "<div id=\"df-9f0b0db6-db50-4a1a-a2d7-b1741300fa3b\">\n",
              "  <button class=\"colab-df-quickchart\" onclick=\"quickchart('df-9f0b0db6-db50-4a1a-a2d7-b1741300fa3b')\"\n",
              "            title=\"Suggest charts\"\n",
              "            style=\"display:none;\">\n",
              "\n",
              "<svg xmlns=\"http://www.w3.org/2000/svg\" height=\"24px\"viewBox=\"0 0 24 24\"\n",
              "     width=\"24px\">\n",
              "    <g>\n",
              "        <path d=\"M19 3H5c-1.1 0-2 .9-2 2v14c0 1.1.9 2 2 2h14c1.1 0 2-.9 2-2V5c0-1.1-.9-2-2-2zM9 17H7v-7h2v7zm4 0h-2V7h2v10zm4 0h-2v-4h2v4z\"/>\n",
              "    </g>\n",
              "</svg>\n",
              "  </button>\n",
              "\n",
              "<style>\n",
              "  .colab-df-quickchart {\n",
              "      --bg-color: #E8F0FE;\n",
              "      --fill-color: #1967D2;\n",
              "      --hover-bg-color: #E2EBFA;\n",
              "      --hover-fill-color: #174EA6;\n",
              "      --disabled-fill-color: #AAA;\n",
              "      --disabled-bg-color: #DDD;\n",
              "  }\n",
              "\n",
              "  [theme=dark] .colab-df-quickchart {\n",
              "      --bg-color: #3B4455;\n",
              "      --fill-color: #D2E3FC;\n",
              "      --hover-bg-color: #434B5C;\n",
              "      --hover-fill-color: #FFFFFF;\n",
              "      --disabled-bg-color: #3B4455;\n",
              "      --disabled-fill-color: #666;\n",
              "  }\n",
              "\n",
              "  .colab-df-quickchart {\n",
              "    background-color: var(--bg-color);\n",
              "    border: none;\n",
              "    border-radius: 50%;\n",
              "    cursor: pointer;\n",
              "    display: none;\n",
              "    fill: var(--fill-color);\n",
              "    height: 32px;\n",
              "    padding: 0;\n",
              "    width: 32px;\n",
              "  }\n",
              "\n",
              "  .colab-df-quickchart:hover {\n",
              "    background-color: var(--hover-bg-color);\n",
              "    box-shadow: 0 1px 2px rgba(60, 64, 67, 0.3), 0 1px 3px 1px rgba(60, 64, 67, 0.15);\n",
              "    fill: var(--button-hover-fill-color);\n",
              "  }\n",
              "\n",
              "  .colab-df-quickchart-complete:disabled,\n",
              "  .colab-df-quickchart-complete:disabled:hover {\n",
              "    background-color: var(--disabled-bg-color);\n",
              "    fill: var(--disabled-fill-color);\n",
              "    box-shadow: none;\n",
              "  }\n",
              "\n",
              "  .colab-df-spinner {\n",
              "    border: 2px solid var(--fill-color);\n",
              "    border-color: transparent;\n",
              "    border-bottom-color: var(--fill-color);\n",
              "    animation:\n",
              "      spin 1s steps(1) infinite;\n",
              "  }\n",
              "\n",
              "  @keyframes spin {\n",
              "    0% {\n",
              "      border-color: transparent;\n",
              "      border-bottom-color: var(--fill-color);\n",
              "      border-left-color: var(--fill-color);\n",
              "    }\n",
              "    20% {\n",
              "      border-color: transparent;\n",
              "      border-left-color: var(--fill-color);\n",
              "      border-top-color: var(--fill-color);\n",
              "    }\n",
              "    30% {\n",
              "      border-color: transparent;\n",
              "      border-left-color: var(--fill-color);\n",
              "      border-top-color: var(--fill-color);\n",
              "      border-right-color: var(--fill-color);\n",
              "    }\n",
              "    40% {\n",
              "      border-color: transparent;\n",
              "      border-right-color: var(--fill-color);\n",
              "      border-top-color: var(--fill-color);\n",
              "    }\n",
              "    60% {\n",
              "      border-color: transparent;\n",
              "      border-right-color: var(--fill-color);\n",
              "    }\n",
              "    80% {\n",
              "      border-color: transparent;\n",
              "      border-right-color: var(--fill-color);\n",
              "      border-bottom-color: var(--fill-color);\n",
              "    }\n",
              "    90% {\n",
              "      border-color: transparent;\n",
              "      border-bottom-color: var(--fill-color);\n",
              "    }\n",
              "  }\n",
              "</style>\n",
              "\n",
              "  <script>\n",
              "    async function quickchart(key) {\n",
              "      const quickchartButtonEl =\n",
              "        document.querySelector('#' + key + ' button');\n",
              "      quickchartButtonEl.disabled = true;  // To prevent multiple clicks.\n",
              "      quickchartButtonEl.classList.add('colab-df-spinner');\n",
              "      try {\n",
              "        const charts = await google.colab.kernel.invokeFunction(\n",
              "            'suggestCharts', [key], {});\n",
              "      } catch (error) {\n",
              "        console.error('Error during call to suggestCharts:', error);\n",
              "      }\n",
              "      quickchartButtonEl.classList.remove('colab-df-spinner');\n",
              "      quickchartButtonEl.classList.add('colab-df-quickchart-complete');\n",
              "    }\n",
              "    (() => {\n",
              "      let quickchartButtonEl =\n",
              "        document.querySelector('#df-9f0b0db6-db50-4a1a-a2d7-b1741300fa3b button');\n",
              "      quickchartButtonEl.style.display =\n",
              "        google.colab.kernel.accessAllowed ? 'block' : 'none';\n",
              "    })();\n",
              "  </script>\n",
              "</div>\n",
              "    </div>\n",
              "  </div>\n"
            ],
            "application/vnd.google.colaboratory.intrinsic+json": {
              "type": "dataframe",
              "variable_name": "wine_data",
              "summary": "{\n  \"name\": \"wine_data\",\n  \"rows\": 4898,\n  \"fields\": [\n    {\n      \"column\": \"fixed acidity\",\n      \"properties\": {\n        \"dtype\": \"number\",\n        \"std\": 0.843868227687513,\n        \"min\": 3.8,\n        \"max\": 14.2,\n        \"num_unique_values\": 68,\n        \"samples\": [\n          10.3,\n          5.8,\n          6.2\n        ],\n        \"semantic_type\": \"\",\n        \"description\": \"\"\n      }\n    },\n    {\n      \"column\": \"volatile acidity\",\n      \"properties\": {\n        \"dtype\": \"number\",\n        \"std\": 0.10079454842486534,\n        \"min\": 0.08,\n        \"max\": 1.1,\n        \"num_unique_values\": 125,\n        \"samples\": [\n          0.14,\n          0.595,\n          0.13\n        ],\n        \"semantic_type\": \"\",\n        \"description\": \"\"\n      }\n    },\n    {\n      \"column\": \"citric acid\",\n      \"properties\": {\n        \"dtype\": \"number\",\n        \"std\": 0.12101980420298249,\n        \"min\": 0.0,\n        \"max\": 1.66,\n        \"num_unique_values\": 87,\n        \"samples\": [\n          0.64,\n          0.36,\n          0.24\n        ],\n        \"semantic_type\": \"\",\n        \"description\": \"\"\n      }\n    },\n    {\n      \"column\": \"residual sugar\",\n      \"properties\": {\n        \"dtype\": \"number\",\n        \"std\": 5.072057784014881,\n        \"min\": 0.6,\n        \"max\": 65.8,\n        \"num_unique_values\": 310,\n        \"samples\": [\n          15.5,\n          19.25,\n          3.3\n        ],\n        \"semantic_type\": \"\",\n        \"description\": \"\"\n      }\n    },\n    {\n      \"column\": \"chlorides\",\n      \"properties\": {\n        \"dtype\": \"number\",\n        \"std\": 0.021847968093728798,\n        \"min\": 0.009,\n        \"max\": 0.346,\n        \"num_unique_values\": 160,\n        \"samples\": [\n          0.167,\n          0.133,\n          0.015\n        ],\n        \"semantic_type\": \"\",\n        \"description\": \"\"\n      }\n    },\n    {\n      \"column\": \"free sulfur dioxide\",\n      \"properties\": {\n        \"dtype\": \"number\",\n        \"std\": 17.00713732523259,\n        \"min\": 2.0,\n        \"max\": 289.0,\n        \"num_unique_values\": 132,\n        \"samples\": [\n          24.0,\n          122.5,\n          7.0\n        ],\n        \"semantic_type\": \"\",\n        \"description\": \"\"\n      }\n    },\n    {\n      \"column\": \"total sulfur dioxide\",\n      \"properties\": {\n        \"dtype\": \"number\",\n        \"std\": 42.49806455414291,\n        \"min\": 9.0,\n        \"max\": 440.0,\n        \"num_unique_values\": 251,\n        \"samples\": [\n          260.0,\n          63.0,\n          70.0\n        ],\n        \"semantic_type\": \"\",\n        \"description\": \"\"\n      }\n    },\n    {\n      \"column\": \"density\",\n      \"properties\": {\n        \"dtype\": \"number\",\n        \"std\": 0.0029909069169369337,\n        \"min\": 0.98711,\n        \"max\": 1.03898,\n        \"num_unique_values\": 890,\n        \"samples\": [\n          0.99362,\n          0.99388,\n          0.9929\n        ],\n        \"semantic_type\": \"\",\n        \"description\": \"\"\n      }\n    },\n    {\n      \"column\": \"pH\",\n      \"properties\": {\n        \"dtype\": \"number\",\n        \"std\": 0.1510005996150668,\n        \"min\": 2.72,\n        \"max\": 3.82,\n        \"num_unique_values\": 103,\n        \"samples\": [\n          3.34,\n          3.41,\n          3.49\n        ],\n        \"semantic_type\": \"\",\n        \"description\": \"\"\n      }\n    },\n    {\n      \"column\": \"sulphates\",\n      \"properties\": {\n        \"dtype\": \"number\",\n        \"std\": 0.1141258339488323,\n        \"min\": 0.22,\n        \"max\": 1.08,\n        \"num_unique_values\": 79,\n        \"samples\": [\n          0.41,\n          0.45,\n          0.46\n        ],\n        \"semantic_type\": \"\",\n        \"description\": \"\"\n      }\n    },\n    {\n      \"column\": \"alcohol\",\n      \"properties\": {\n        \"dtype\": \"number\",\n        \"std\": 1.230620567757318,\n        \"min\": 8.0,\n        \"max\": 14.2,\n        \"num_unique_values\": 103,\n        \"samples\": [\n          12.6,\n          11.3666666666667,\n          10.0333333333333\n        ],\n        \"semantic_type\": \"\",\n        \"description\": \"\"\n      }\n    },\n    {\n      \"column\": \"quality\",\n      \"properties\": {\n        \"dtype\": \"number\",\n        \"std\": 0,\n        \"min\": 3,\n        \"max\": 9,\n        \"num_unique_values\": 7,\n        \"samples\": [\n          6,\n          5,\n          3\n        ],\n        \"semantic_type\": \"\",\n        \"description\": \"\"\n      }\n    }\n  ]\n}"
            }
          },
          "metadata": {},
          "execution_count": 100
        }
      ]
    },
    {
      "cell_type": "markdown",
      "source": [
        "Note that the wine quality dataset is **unbalanced**, with many more samples in the \"medium\" quality categories than at the extremes."
      ],
      "metadata": {
        "id": "0NCFOOFNU_Ik"
      }
    },
    {
      "cell_type": "code",
      "source": [
        "plt.hist(wine_data['quality'], bins=10)\n",
        "plt.show()"
      ],
      "metadata": {
        "colab": {
          "base_uri": "https://localhost:8080/",
          "height": 430
        },
        "id": "UXwwq3MSSNtU",
        "outputId": "9d27e1f1-a14e-41db-f8fe-8e72b70492e6"
      },
      "execution_count": null,
      "outputs": [
        {
          "output_type": "display_data",
          "data": {
            "text/plain": [
              "<Figure size 640x480 with 1 Axes>"
            ],
            "image/png": "[encoded data removed]"
          },
          "metadata": {}
        }
      ]
    },
    {
      "cell_type": "code",
      "source": [
        "#Preprocessing the data\n",
        "\n",
        "wine_data['quality'].value_counts()"
      ],
      "metadata": {
        "colab": {
          "base_uri": "https://localhost:8080/"
        },
        "id": "NecPPGbmV5SZ",
        "outputId": "82930c22-afb6-440b-f216-1de173a1ef9b"
      },
      "execution_count": null,
      "outputs": [
        {
          "output_type": "execute_result",
          "data": {
            "text/plain": [
              "6    2198\n",
              "5    1457\n",
              "7     880\n",
              "8     175\n",
              "4     163\n",
              "3      20\n",
              "9       5\n",
              "Name: quality, dtype: int64"
            ]
          },
          "metadata": {},
          "execution_count": 102
        }
      ]
    },
    {
      "cell_type": "code",
      "source": [
        "wine_data['quality'].unique()"
      ],
      "metadata": {
        "colab": {
          "base_uri": "https://localhost:8080/"
        },
        "id": "8Ml8wVAUbxon",
        "outputId": "37107f9b-117b-4f0b-c18b-d6bf5b7c7a65"
      },
      "execution_count": null,
      "outputs": [
        {
          "output_type": "execute_result",
          "data": {
            "text/plain": [
              "array([6, 5, 7, 8, 4, 3, 9])"
            ]
          },
          "metadata": {},
          "execution_count": 103
        }
      ]
    },
    {
      "cell_type": "code",
      "source": [
        "# Data Preprocessing\n",
        "\n",
        "# Creates a feature called \"alcohol_cat\" based on the \"alcohol\" column in wine_data. It bins the alcohol levels into five categories using the pd.cut function, with predefined bins and corresponding labels.\n",
        "\n",
        "wine_data[\"alcohol_cat\"] = pd.cut(wine_data[\"alcohol\"],\n",
        "                               bins=[0., 1.5, 3.0, 4.5, 6., np.inf],\n",
        "                               labels=[1, 2, 3, 4, 5])"
      ],
      "metadata": {
        "id": "flXSmMyGEafL"
      },
      "execution_count": null,
      "outputs": []
    },
    {
      "cell_type": "code",
      "source": [
        "corr_matrix = wine_data.corr()\n",
        "corr_matrix"
      ],
      "metadata": {
        "colab": {
          "base_uri": "https://localhost:8080/",
          "height": 534
        },
        "id": "OS-YtNjOIqUK",
        "outputId": "c60461ff-5a5d-4178-aa4f-8aa6ee8de37e"
      },
      "execution_count": null,
      "outputs": [
        {
          "output_type": "stream",
          "name": "stderr",
          "text": [
            "<ipython-input-105-a1fef0a00952>:1: FutureWarning: The default value of numeric_only in DataFrame.corr is deprecated. In a future version, it will default to False. Select only valid columns or specify the value of numeric_only to silence this warning.\n",
            "  corr_matrix = wine_data.corr()\n"
          ]
        },
        {
          "output_type": "execute_result",
          "data": {
            "text/plain": [
              "                      fixed acidity  volatile acidity  citric acid  \\\n",
              "fixed acidity              1.000000         -0.022697     0.289181   \n",
              "volatile acidity          -0.022697          1.000000    -0.149472   \n",
              "citric acid                0.289181         -0.149472     1.000000   \n",
              "residual sugar             0.089021          0.064286     0.094212   \n",
              "chlorides                  0.023086          0.070512     0.114364   \n",
              "free sulfur dioxide       -0.049396         -0.097012     0.094077   \n",
              "total sulfur dioxide       0.091070          0.089261     0.121131   \n",
              "density                    0.265331          0.027114     0.149503   \n",
              "pH                        -0.425858         -0.031915    -0.163748   \n",
              "sulphates                 -0.017143         -0.035728     0.062331   \n",
              "alcohol                   -0.120881          0.067718    -0.075729   \n",
              "quality                   -0.113663         -0.194723    -0.009209   \n",
              "\n",
              "                      residual sugar  chlorides  free sulfur dioxide  \\\n",
              "fixed acidity               0.089021   0.023086            -0.049396   \n",
              "volatile acidity            0.064286   0.070512            -0.097012   \n",
              "citric acid                 0.094212   0.114364             0.094077   \n",
              "residual sugar              1.000000   0.088685             0.299098   \n",
              "chlorides                   0.088685   1.000000             0.101392   \n",
              "free sulfur dioxide         0.299098   0.101392             1.000000   \n",
              "total sulfur dioxide        0.401439   0.198910             0.615501   \n",
              "density                     0.838966   0.257211             0.294210   \n",
              "pH                         -0.194133  -0.090439            -0.000618   \n",
              "sulphates                  -0.026664   0.016763             0.059217   \n",
              "alcohol                    -0.450631  -0.360189            -0.250104   \n",
              "quality                    -0.097577  -0.209934             0.008158   \n",
              "\n",
              "                      total sulfur dioxide   density        pH  sulphates  \\\n",
              "fixed acidity                     0.091070  0.265331 -0.425858  -0.017143   \n",
              "volatile acidity                  0.089261  0.027114 -0.031915  -0.035728   \n",
              "citric acid                       0.121131  0.149503 -0.163748   0.062331   \n",
              "residual sugar                    0.401439  0.838966 -0.194133  -0.026664   \n",
              "chlorides                         0.198910  0.257211 -0.090439   0.016763   \n",
              "free sulfur dioxide               0.615501  0.294210 -0.000618   0.059217   \n",
              "total sulfur dioxide              1.000000  0.529881  0.002321   0.134562   \n",
              "density                           0.529881  1.000000 -0.093591   0.074493   \n",
              "pH                                0.002321 -0.093591  1.000000   0.155951   \n",
              "sulphates                         0.134562  0.074493  0.155951   1.000000   \n",
              "alcohol                          -0.448892 -0.780138  0.121432  -0.017433   \n",
              "quality                          -0.174737 -0.307123  0.099427   0.053678   \n",
              "\n",
              "                       alcohol   quality  \n",
              "fixed acidity        -0.120881 -0.113663  \n",
              "volatile acidity      0.067718 -0.194723  \n",
              "citric acid          -0.075729 -0.009209  \n",
              "residual sugar       -0.450631 -0.097577  \n",
              "chlorides            -0.360189 -0.209934  \n",
              "free sulfur dioxide  -0.250104  0.008158  \n",
              "total sulfur dioxide -0.448892 -0.174737  \n",
              "density              -0.780138 -0.307123  \n",
              "pH                    0.121432  0.099427  \n",
              "sulphates            -0.017433  0.053678  \n",
              "alcohol               1.000000  0.435575  \n",
              "quality               0.435575  1.000000  "
            ],
            "text/html": [
              "\n",
              "  <div id=\"df-bb6aafa7-e4c9-4579-b75e-21872deaabb8\" class=\"colab-df-container\">\n",
              "    <div>\n",
              "<style scoped>\n",
              "    .dataframe tbody tr th:only-of-type {\n",
              "        vertical-align: middle;\n",
              "    }\n",
              "\n",
              "    .dataframe tbody tr th {\n",
              "        vertical-align: top;\n",
              "    }\n",
              "\n",
              "    .dataframe thead th {\n",
              "        text-align: right;\n",
              "    }\n",
              "</style>\n",
              "<table border=\"1\" class=\"dataframe\">\n",
              "  <thead>\n",
              "    <tr style=\"text-align: right;\">\n",
              "      <th></th>\n",
              "      <th>fixed acidity</th>\n",
              "      <th>volatile acidity</th>\n",
              "      <th>citric acid</th>\n",
              "      <th>residual sugar</th>\n",
              "      <th>chlorides</th>\n",
              "      <th>free sulfur dioxide</th>\n",
              "      <th>total sulfur dioxide</th>\n",
              "      <th>density</th>\n",
              "      <th>pH</th>\n",
              "      <th>sulphates</th>\n",
              "      <th>alcohol</th>\n",
              "      <th>quality</th>\n",
              "    </tr>\n",
              "  </thead>\n",
              "  <tbody>\n",
              "    <tr>\n",
              "      <th>fixed acidity</th>\n",
              "      <td>1.000000</td>\n",
              "      <td>-0.022697</td>\n",
              "      <td>0.289181</td>\n",
              "      <td>0.089021</td>\n",
              "      <td>0.023086</td>\n",
              "      <td>-0.049396</td>\n",
              "      <td>0.091070</td>\n",
              "      <td>0.265331</td>\n",
              "      <td>-0.425858</td>\n",
              "      <td>-0.017143</td>\n",
              "      <td>-0.120881</td>\n",
              "      <td>-0.113663</td>\n",
              "    </tr>\n",
              "    <tr>\n",
              "      <th>volatile acidity</th>\n",
              "      <td>-0.022697</td>\n",
              "      <td>1.000000</td>\n",
              "      <td>-0.149472</td>\n",
              "      <td>0.064286</td>\n",
              "      <td>0.070512</td>\n",
              "      <td>-0.097012</td>\n",
              "      <td>0.089261</td>\n",
              "      <td>0.027114</td>\n",
              "      <td>-0.031915</td>\n",
              "      <td>-0.035728</td>\n",
              "      <td>0.067718</td>\n",
              "      <td>-0.194723</td>\n",
              "    </tr>\n",
              "    <tr>\n",
              "      <th>citric acid</th>\n",
              "      <td>0.289181</td>\n",
              "      <td>-0.149472</td>\n",
              "      <td>1.000000</td>\n",
              "      <td>0.094212</td>\n",
              "      <td>0.114364</td>\n",
              "      <td>0.094077</td>\n",
              "      <td>0.121131</td>\n",
              "      <td>0.149503</td>\n",
              "      <td>-0.163748</td>\n",
              "      <td>0.062331</td>\n",
              "      <td>-0.075729</td>\n",
              "      <td>-0.009209</td>\n",
              "    </tr>\n",
              "    <tr>\n",
              "      <th>residual sugar</th>\n",
              "      <td>0.089021</td>\n",
              "      <td>0.064286</td>\n",
              "      <td>0.094212</td>\n",
              "      <td>1.000000</td>\n",
              "      <td>0.088685</td>\n",
              "      <td>0.299098</td>\n",
              "      <td>0.401439</td>\n",
              "      <td>0.838966</td>\n",
              "      <td>-0.194133</td>\n",
              "      <td>-0.026664</td>\n",
              "      <td>-0.450631</td>\n",
              "      <td>-0.097577</td>\n",
              "    </tr>\n",
              "    <tr>\n",
              "      <th>chlorides</th>\n",
              "      <td>0.023086</td>\n",
              "      <td>0.070512</td>\n",
              "      <td>0.114364</td>\n",
              "      <td>0.088685</td>\n",
              "      <td>1.000000</td>\n",
              "      <td>0.101392</td>\n",
              "      <td>0.198910</td>\n",
              "      <td>0.257211</td>\n",
              "      <td>-0.090439</td>\n",
              "      <td>0.016763</td>\n",
              "      <td>-0.360189</td>\n",
              "      <td>-0.209934</td>\n",
              "    </tr>\n",
              "    <tr>\n",
              "      <th>free sulfur dioxide</th>\n",
              "      <td>-0.049396</td>\n",
              "      <td>-0.097012</td>\n",
              "      <td>0.094077</td>\n",
              "      <td>0.299098</td>\n",
              "      <td>0.101392</td>\n",
              "      <td>1.000000</td>\n",
              "      <td>0.615501</td>\n",
              "      <td>0.294210</td>\n",
              "      <td>-0.000618</td>\n",
              "      <td>0.059217</td>\n",
              "      <td>-0.250104</td>\n",
              "      <td>0.008158</td>\n",
              "    </tr>\n",
              "    <tr>\n",
              "      <th>total sulfur dioxide</th>\n",
              "      <td>0.091070</td>\n",
              "      <td>0.089261</td>\n",
              "      <td>0.121131</td>\n",
              "      <td>0.401439</td>\n",
              "      <td>0.198910</td>\n",
              "      <td>0.615501</td>\n",
              "      <td>1.000000</td>\n",
              "      <td>0.529881</td>\n",
              "      <td>0.002321</td>\n",
              "      <td>0.134562</td>\n",
              "      <td>-0.448892</td>\n",
              "      <td>-0.174737</td>\n",
              "    </tr>\n",
              "    <tr>\n",
              "      <th>density</th>\n",
              "      <td>0.265331</td>\n",
              "      <td>0.027114</td>\n",
              "      <td>0.149503</td>\n",
              "      <td>0.838966</td>\n",
              "      <td>0.257211</td>\n",
              "      <td>0.294210</td>\n",
              "      <td>0.529881</td>\n",
              "      <td>1.000000</td>\n",
              "      <td>-0.093591</td>\n",
              "      <td>0.074493</td>\n",
              "      <td>-0.780138</td>\n",
              "      <td>-0.307123</td>\n",
              "    </tr>\n",
              "    <tr>\n",
              "      <th>pH</th>\n",
              "      <td>-0.425858</td>\n",
              "      <td>-0.031915</td>\n",
              "      <td>-0.163748</td>\n",
              "      <td>-0.194133</td>\n",
              "      <td>-0.090439</td>\n",
              "      <td>-0.000618</td>\n",
              "      <td>0.002321</td>\n",
              "      <td>-0.093591</td>\n",
              "      <td>1.000000</td>\n",
              "      <td>0.155951</td>\n",
              "      <td>0.121432</td>\n",
              "      <td>0.099427</td>\n",
              "    </tr>\n",
              "    <tr>\n",
              "      <th>sulphates</th>\n",
              "      <td>-0.017143</td>\n",
              "      <td>-0.035728</td>\n",
              "      <td>0.062331</td>\n",
              "      <td>-0.026664</td>\n",
              "      <td>0.016763</td>\n",
              "      <td>0.059217</td>\n",
              "      <td>0.134562</td>\n",
              "      <td>0.074493</td>\n",
              "      <td>0.155951</td>\n",
              "      <td>1.000000</td>\n",
              "      <td>-0.017433</td>\n",
              "      <td>0.053678</td>\n",
              "    </tr>\n",
              "    <tr>\n",
              "      <th>alcohol</th>\n",
              "      <td>-0.120881</td>\n",
              "      <td>0.067718</td>\n",
              "      <td>-0.075729</td>\n",
              "      <td>-0.450631</td>\n",
              "      <td>-0.360189</td>\n",
              "      <td>-0.250104</td>\n",
              "      <td>-0.448892</td>\n",
              "      <td>-0.780138</td>\n",
              "      <td>0.121432</td>\n",
              "      <td>-0.017433</td>\n",
              "      <td>1.000000</td>\n",
              "      <td>0.435575</td>\n",
              "    </tr>\n",
              "    <tr>\n",
              "      <th>quality</th>\n",
              "      <td>-0.113663</td>\n",
              "      <td>-0.194723</td>\n",
              "      <td>-0.009209</td>\n",
              "      <td>-0.097577</td>\n",
              "      <td>-0.209934</td>\n",
              "      <td>0.008158</td>\n",
              "      <td>-0.174737</td>\n",
              "      <td>-0.307123</td>\n",
              "      <td>0.099427</td>\n",
              "      <td>0.053678</td>\n",
              "      <td>0.435575</td>\n",
              "      <td>1.000000</td>\n",
              "    </tr>\n",
              "  </tbody>\n",
              "</table>\n",
              "</div>\n",
              "    <div class=\"colab-df-buttons\">\n",
              "\n",
              "  <div class=\"colab-df-container\">\n",
              "    <button class=\"colab-df-convert\" onclick=\"convertToInteractive('df-bb6aafa7-e4c9-4579-b75e-21872deaabb8')\"\n",
              "            title=\"Convert this dataframe to an interactive table.\"\n",
              "            style=\"display:none;\">\n",
              "\n",
              "  <svg xmlns=\"http://www.w3.org/2000/svg\" height=\"24px\" viewBox=\"0 -960 960 960\">\n",
              "    <path d=\"M120-120v-720h720v720H120Zm60-500h600v-160H180v160Zm220 220h160v-160H400v160Zm0 220h160v-160H400v160ZM180-400h160v-160H180v160Zm440 0h160v-160H620v160ZM180-180h160v-160H180v160Zm440 0h160v-160H620v160Z\"/>\n",
              "  </svg>\n",
              "    </button>\n",
              "\n",
              "  <style>\n",
              "    .colab-df-container {\n",
              "      display:flex;\n",
              "      gap: 12px;\n",
              "    }\n",
              "\n",
              "    .colab-df-convert {\n",
              "      background-color: #E8F0FE;\n",
              "      border: none;\n",
              "      border-radius: 50%;\n",
              "      cursor: pointer;\n",
              "      display: none;\n",
              "      fill: #1967D2;\n",
              "      height: 32px;\n",
              "      padding: 0 0 0 0;\n",
              "      width: 32px;\n",
              "    }\n",
              "\n",
              "    .colab-df-convert:hover {\n",
              "      background-color: #E2EBFA;\n",
              "      box-shadow: 0px 1px 2px rgba(60, 64, 67, 0.3), 0px 1px 3px 1px rgba(60, 64, 67, 0.15);\n",
              "      fill: #174EA6;\n",
              "    }\n",
              "\n",
              "    .colab-df-buttons div {\n",
              "      margin-bottom: 4px;\n",
              "    }\n",
              "\n",
              "    [theme=dark] .colab-df-convert {\n",
              "      background-color: #3B4455;\n",
              "      fill: #D2E3FC;\n",
              "    }\n",
              "\n",
              "    [theme=dark] .colab-df-convert:hover {\n",
              "      background-color: #434B5C;\n",
              "      box-shadow: 0px 1px 3px 1px rgba(0, 0, 0, 0.15);\n",
              "      filter: drop-shadow(0px 1px 2px rgba(0, 0, 0, 0.3));\n",
              "      fill: #FFFFFF;\n",
              "    }\n",
              "  </style>\n",
              "\n",
              "    <script>\n",
              "      const buttonEl =\n",
              "        document.querySelector('#df-bb6aafa7-e4c9-4579-b75e-21872deaabb8 button.colab-df-convert');\n",
              "      buttonEl.style.display =\n",
              "        google.colab.kernel.accessAllowed ? 'block' : 'none';\n",
              "\n",
              "      async function convertToInteractive(key) {\n",
              "        const element = document.querySelector('#df-bb6aafa7-e4c9-4579-b75e-21872deaabb8');\n",
              "        const dataTable =\n",
              "          await google.colab.kernel.invokeFunction('convertToInteractive',\n",
              "                                                    [key], {});\n",
              "        if (!dataTable) return;\n",
              "\n",
              "        const docLinkHtml = 'Like what you see? Visit the ' +\n",
              "          '<a target=\"_blank\" href=https://colab.research.google.com/notebooks/data_table.ipynb>data table notebook</a>'\n",
              "          + ' to learn more about interactive tables.';\n",
              "        element.innerHTML = '';\n",
              "        dataTable['output_type'] = 'display_data';\n",
              "        await google.colab.output.renderOutput(dataTable, element);\n",
              "        const docLink = document.createElement('div');\n",
              "        docLink.innerHTML = docLinkHtml;\n",
              "        element.appendChild(docLink);\n",
              "      }\n",
              "    </script>\n",
              "  </div>\n",
              "\n",
              "\n",
              "<div id=\"df-c5ccf014-683f-45f4-91b2-484f7127f09f\">\n",
              "  <button class=\"colab-df-quickchart\" onclick=\"quickchart('df-c5ccf014-683f-45f4-91b2-484f7127f09f')\"\n",
              "            title=\"Suggest charts\"\n",
              "            style=\"display:none;\">\n",
              "\n",
              "<svg xmlns=\"http://www.w3.org/2000/svg\" height=\"24px\"viewBox=\"0 0 24 24\"\n",
              "     width=\"24px\">\n",
              "    <g>\n",
              "        <path d=\"M19 3H5c-1.1 0-2 .9-2 2v14c0 1.1.9 2 2 2h14c1.1 0 2-.9 2-2V5c0-1.1-.9-2-2-2zM9 17H7v-7h2v7zm4 0h-2V7h2v10zm4 0h-2v-4h2v4z\"/>\n",
              "    </g>\n",
              "</svg>\n",
              "  </button>\n",
              "\n",
              "<style>\n",
              "  .colab-df-quickchart {\n",
              "      --bg-color: #E8F0FE;\n",
              "      --fill-color: #1967D2;\n",
              "      --hover-bg-color: #E2EBFA;\n",
              "      --hover-fill-color: #174EA6;\n",
              "      --disabled-fill-color: #AAA;\n",
              "      --disabled-bg-color: #DDD;\n",
              "  }\n",
              "\n",
              "  [theme=dark] .colab-df-quickchart {\n",
              "      --bg-color: #3B4455;\n",
              "      --fill-color: #D2E3FC;\n",
              "      --hover-bg-color: #434B5C;\n",
              "      --hover-fill-color: #FFFFFF;\n",
              "      --disabled-bg-color: #3B4455;\n",
              "      --disabled-fill-color: #666;\n",
              "  }\n",
              "\n",
              "  .colab-df-quickchart {\n",
              "    background-color: var(--bg-color);\n",
              "    border: none;\n",
              "    border-radius: 50%;\n",
              "    cursor: pointer;\n",
              "    display: none;\n",
              "    fill: var(--fill-color);\n",
              "    height: 32px;\n",
              "    padding: 0;\n",
              "    width: 32px;\n",
              "  }\n",
              "\n",
              "  .colab-df-quickchart:hover {\n",
              "    background-color: var(--hover-bg-color);\n",
              "    box-shadow: 0 1px 2px rgba(60, 64, 67, 0.3), 0 1px 3px 1px rgba(60, 64, 67, 0.15);\n",
              "    fill: var(--button-hover-fill-color);\n",
              "  }\n",
              "\n",
              "  .colab-df-quickchart-complete:disabled,\n",
              "  .colab-df-quickchart-complete:disabled:hover {\n",
              "    background-color: var(--disabled-bg-color);\n",
              "    fill: var(--disabled-fill-color);\n",
              "    box-shadow: none;\n",
              "  }\n",
              "\n",
              "  .colab-df-spinner {\n",
              "    border: 2px solid var(--fill-color);\n",
              "    border-color: transparent;\n",
              "    border-bottom-color: var(--fill-color);\n",
              "    animation:\n",
              "      spin 1s steps(1) infinite;\n",
              "  }\n",
              "\n",
              "  @keyframes spin {\n",
              "    0% {\n",
              "      border-color: transparent;\n",
              "      border-bottom-color: var(--fill-color);\n",
              "      border-left-color: var(--fill-color);\n",
              "    }\n",
              "    20% {\n",
              "      border-color: transparent;\n",
              "      border-left-color: var(--fill-color);\n",
              "      border-top-color: var(--fill-color);\n",
              "    }\n",
              "    30% {\n",
              "      border-color: transparent;\n",
              "      border-left-color: var(--fill-color);\n",
              "      border-top-color: var(--fill-color);\n",
              "      border-right-color: var(--fill-color);\n",
              "    }\n",
              "    40% {\n",
              "      border-color: transparent;\n",
              "      border-right-color: var(--fill-color);\n",
              "      border-top-color: var(--fill-color);\n",
              "    }\n",
              "    60% {\n",
              "      border-color: transparent;\n",
              "      border-right-color: var(--fill-color);\n",
              "    }\n",
              "    80% {\n",
              "      border-color: transparent;\n",
              "      border-right-color: var(--fill-color);\n",
              "      border-bottom-color: var(--fill-color);\n",
              "    }\n",
              "    90% {\n",
              "      border-color: transparent;\n",
              "      border-bottom-color: var(--fill-color);\n",
              "    }\n",
              "  }\n",
              "</style>\n",
              "\n",
              "  <script>\n",
              "    async function quickchart(key) {\n",
              "      const quickchartButtonEl =\n",
              "        document.querySelector('#' + key + ' button');\n",
              "      quickchartButtonEl.disabled = true;  // To prevent multiple clicks.\n",
              "      quickchartButtonEl.classList.add('colab-df-spinner');\n",
              "      try {\n",
              "        const charts = await google.colab.kernel.invokeFunction(\n",
              "            'suggestCharts', [key], {});\n",
              "      } catch (error) {\n",
              "        console.error('Error during call to suggestCharts:', error);\n",
              "      }\n",
              "      quickchartButtonEl.classList.remove('colab-df-spinner');\n",
              "      quickchartButtonEl.classList.add('colab-df-quickchart-complete');\n",
              "    }\n",
              "    (() => {\n",
              "      let quickchartButtonEl =\n",
              "        document.querySelector('#df-c5ccf014-683f-45f4-91b2-484f7127f09f button');\n",
              "      quickchartButtonEl.style.display =\n",
              "        google.colab.kernel.accessAllowed ? 'block' : 'none';\n",
              "    })();\n",
              "  </script>\n",
              "</div>\n",
              "    </div>\n",
              "  </div>\n"
            ],
            "application/vnd.google.colaboratory.intrinsic+json": {
              "type": "dataframe",
              "variable_name": "corr_matrix",
              "summary": "{\n  \"name\": \"corr_matrix\",\n  \"rows\": 12,\n  \"fields\": [\n    {\n      \"column\": \"fixed acidity\",\n      \"properties\": {\n        \"dtype\": \"number\",\n        \"std\": 0.34354208678634196,\n        \"min\": -0.4258582909913803,\n        \"max\": 1.0,\n        \"num_unique_values\": 12,\n        \"samples\": [\n          -0.12088112319453212,\n          -0.017142985021138365,\n          1.0\n        ],\n        \"semantic_type\": \"\",\n        \"description\": \"\"\n      }\n    },\n    {\n      \"column\": \"volatile acidity\",\n      \"properties\": {\n        \"dtype\": \"number\",\n        \"std\": 0.3079572467397986,\n        \"min\": -0.19472296892113433,\n        \"max\": 1.0,\n        \"num_unique_values\": 12,\n        \"samples\": [\n          0.06771794277504317,\n          -0.035728146905814676,\n          -0.022697290146645732\n        ],\n        \"semantic_type\": \"\",\n        \"description\": \"\"\n      }\n    },\n    {\n      \"column\": \"citric acid\",\n      \"properties\": {\n        \"dtype\": \"number\",\n        \"std\": 0.30392815856777783,\n        \"min\": -0.16374821140062115,\n        \"max\": 1.0,\n        \"num_unique_values\": 12,\n        \"samples\": [\n          -0.07572873005717866,\n          0.0623309402852321,\n          0.28918069769367544\n        ],\n        \"semantic_type\": \"\",\n        \"description\": \"\"\n      }\n    },\n    {\n      \"column\": \"residual sugar\",\n      \"properties\": {\n        \"dtype\": \"number\",\n        \"std\": 0.4116944573496859,\n        \"min\": -0.4506312220317285,\n        \"max\": 1.0,\n        \"num_unique_values\": 12,\n        \"samples\": [\n          -0.4506312220317285,\n          -0.02666436585385816,\n          0.08902070136217159\n        ],\n        \"semantic_type\": \"\",\n        \"description\": \"\"\n      }\n    },\n    {\n      \"column\": \"chlorides\",\n      \"properties\": {\n        \"dtype\": \"number\",\n        \"std\": 0.33065224753951267,\n        \"min\": -0.360188712108163,\n        \"max\": 1.0,\n        \"num_unique_values\": 12,\n        \"samples\": [\n          -0.360188712108163,\n          0.016762883708175663,\n          0.02308564365634794\n        ],\n        \"semantic_type\": \"\",\n        \"description\": \"\"\n      }\n    },\n    {\n      \"column\": \"free sulfur dioxide\",\n      \"properties\": {\n        \"dtype\": \"number\",\n        \"std\": 0.3428929026339928,\n        \"min\": -0.25010394148353127,\n        \"max\": 1.0,\n        \"num_unique_values\": 12,\n        \"samples\": [\n          -0.25010394148353127,\n          0.05921724582526308,\n          -0.04939585908117326\n        ],\n        \"semantic_type\": \"\",\n        \"description\": \"\"\n      }\n    },\n    {\n      \"column\": \"total sulfur dioxide\",\n      \"properties\": {\n        \"dtype\": \"number\",\n        \"std\": 0.38079985956819346,\n        \"min\": -0.44889210206133995,\n        \"max\": 1.0,\n        \"num_unique_values\": 12,\n        \"samples\": [\n          -0.44889210206133995,\n          0.13456236692980836,\n          0.09106975615864002\n        ],\n        \"semantic_type\": \"\",\n        \"description\": \"\"\n      }\n    },\n    {\n      \"column\": \"density\",\n      \"properties\": {\n        \"dtype\": \"number\",\n        \"std\": 0.4790157178524348,\n        \"min\": -0.7801376214255623,\n        \"max\": 1.0,\n        \"num_unique_values\": 12,\n        \"samples\": [\n          -0.7801376214255623,\n          0.07449314851168053,\n          0.265331013839189\n        ],\n        \"semantic_type\": \"\",\n        \"description\": \"\"\n      }\n    },\n    {\n      \"column\": \"pH\",\n      \"properties\": {\n        \"dtype\": \"number\",\n        \"std\": 0.34388327528655954,\n        \"min\": -0.4258582909913803,\n        \"max\": 1.0,\n        \"num_unique_values\": 12,\n        \"samples\": [\n          0.12143209874913044,\n          0.1559514972796509,\n          -0.4258582909913803\n        ],\n        \"semantic_type\": \"\",\n        \"description\": \"\"\n      }\n    },\n    {\n      \"column\": \"sulphates\",\n      \"properties\": {\n        \"dtype\": \"number\",\n        \"std\": 0.28340085125427866,\n        \"min\": -0.035728146905814676,\n        \"max\": 1.0,\n        \"num_unique_values\": 12,\n        \"samples\": [\n          -0.01743277185595147,\n          1.0,\n          -0.017142985021138365\n        ],\n        \"semantic_type\": \"\",\n        \"description\": \"\"\n      }\n    },\n    {\n      \"column\": \"alcohol\",\n      \"properties\": {\n        \"dtype\": \"number\",\n        \"std\": 0.46424488883232873,\n        \"min\": -0.7801376214255623,\n        \"max\": 1.0,\n        \"num_unique_values\": 12,\n        \"samples\": [\n          1.0,\n          -0.01743277185595147,\n          -0.12088112319453212\n        ],\n        \"semantic_type\": \"\",\n        \"description\": \"\"\n      }\n    },\n    {\n      \"column\": \"quality\",\n      \"properties\": {\n        \"dtype\": \"number\",\n        \"std\": 0.35827030916669717,\n        \"min\": -0.3071233127347341,\n        \"max\": 1.0,\n        \"num_unique_values\": 12,\n        \"samples\": [\n          0.4355747154613733,\n          0.05367787713279206,\n          -0.11366283071301829\n        ],\n        \"semantic_type\": \"\",\n        \"description\": \"\"\n      }\n    }\n  ]\n}"
            }
          },
          "metadata": {},
          "execution_count": 105
        }
      ]
    },
    {
      "cell_type": "code",
      "source": [
        "# features that are most strongly correlated (positively or negatively) with wine quality.\n",
        "corr_matrix[\"quality\"].sort_values(ascending=False)"
      ],
      "metadata": {
        "colab": {
          "base_uri": "https://localhost:8080/"
        },
        "id": "fN4TlqlRJCe_",
        "outputId": "e56cd8b9-28ec-47b1-b5c2-680c3f90dfa6"
      },
      "execution_count": null,
      "outputs": [
        {
          "output_type": "execute_result",
          "data": {
            "text/plain": [
              "quality                 1.000000\n",
              "alcohol                 0.435575\n",
              "pH                      0.099427\n",
              "sulphates               0.053678\n",
              "free sulfur dioxide     0.008158\n",
              "citric acid            -0.009209\n",
              "residual sugar         -0.097577\n",
              "fixed acidity          -0.113663\n",
              "total sulfur dioxide   -0.174737\n",
              "volatile acidity       -0.194723\n",
              "chlorides              -0.209934\n",
              "density                -0.307123\n",
              "Name: quality, dtype: float64"
            ]
          },
          "metadata": {},
          "execution_count": 106
        }
      ]
    },
    {
      "cell_type": "code",
      "source": [
        "# Removing Irrelevant features due to correlation.\n",
        "wine_data1 = wine_data.drop(['sulphates', 'free sulfur dioxide', 'citric acid'], axis=1)\n",
        "wine_data1.head()"
      ],
      "metadata": {
        "colab": {
          "base_uri": "https://localhost:8080/",
          "height": 206
        },
        "id": "OgO_UY5OLVd5",
        "outputId": "60773277-6e07-4f9e-ca8e-ac85d199f1d2"
      },
      "execution_count": null,
      "outputs": [
        {
          "output_type": "execute_result",
          "data": {
            "text/plain": [
              "   fixed acidity  volatile acidity  residual sugar  chlorides  \\\n",
              "0            7.0              0.27            20.7      0.045   \n",
              "1            6.3              0.30             1.6      0.049   \n",
              "2            8.1              0.28             6.9      0.050   \n",
              "3            7.2              0.23             8.5      0.058   \n",
              "4            7.2              0.23             8.5      0.058   \n",
              "\n",
              "   total sulfur dioxide  density    pH  alcohol  quality alcohol_cat  \n",
              "0                 170.0   1.0010  3.00      8.8        6           5  \n",
              "1                 132.0   0.9940  3.30      9.5        6           5  \n",
              "2                  97.0   0.9951  3.26     10.1        6           5  \n",
              "3                 186.0   0.9956  3.19      9.9        6           5  \n",
              "4                 186.0   0.9956  3.19      9.9        6           5  "
            ],
            "text/html": [
              "\n",
              "  <div id=\"df-91a39bb9-2b4c-40e9-b38a-e4286091cc7a\" class=\"colab-df-container\">\n",
              "    <div>\n",
              "<style scoped>\n",
              "    .dataframe tbody tr th:only-of-type {\n",
              "        vertical-align: middle;\n",
              "    }\n",
              "\n",
              "    .dataframe tbody tr th {\n",
              "        vertical-align: top;\n",
              "    }\n",
              "\n",
              "    .dataframe thead th {\n",
              "        text-align: right;\n",
              "    }\n",
              "</style>\n",
              "<table border=\"1\" class=\"dataframe\">\n",
              "  <thead>\n",
              "    <tr style=\"text-align: right;\">\n",
              "      <th></th>\n",
              "      <th>fixed acidity</th>\n",
              "      <th>volatile acidity</th>\n",
              "      <th>residual sugar</th>\n",
              "      <th>chlorides</th>\n",
              "      <th>total sulfur dioxide</th>\n",
              "      <th>density</th>\n",
              "      <th>pH</th>\n",
              "      <th>alcohol</th>\n",
              "      <th>quality</th>\n",
              "      <th>alcohol_cat</th>\n",
              "    </tr>\n",
              "  </thead>\n",
              "  <tbody>\n",
              "    <tr>\n",
              "      <th>0</th>\n",
              "      <td>7.0</td>\n",
              "      <td>0.27</td>\n",
              "      <td>20.7</td>\n",
              "      <td>0.045</td>\n",
              "      <td>170.0</td>\n",
              "      <td>1.0010</td>\n",
              "      <td>3.00</td>\n",
              "      <td>8.8</td>\n",
              "      <td>6</td>\n",
              "      <td>5</td>\n",
              "    </tr>\n",
              "    <tr>\n",
              "      <th>1</th>\n",
              "      <td>6.3</td>\n",
              "      <td>0.30</td>\n",
              "      <td>1.6</td>\n",
              "      <td>0.049</td>\n",
              "      <td>132.0</td>\n",
              "      <td>0.9940</td>\n",
              "      <td>3.30</td>\n",
              "      <td>9.5</td>\n",
              "      <td>6</td>\n",
              "      <td>5</td>\n",
              "    </tr>\n",
              "    <tr>\n",
              "      <th>2</th>\n",
              "      <td>8.1</td>\n",
              "      <td>0.28</td>\n",
              "      <td>6.9</td>\n",
              "      <td>0.050</td>\n",
              "      <td>97.0</td>\n",
              "      <td>0.9951</td>\n",
              "      <td>3.26</td>\n",
              "      <td>10.1</td>\n",
              "      <td>6</td>\n",
              "      <td>5</td>\n",
              "    </tr>\n",
              "    <tr>\n",
              "      <th>3</th>\n",
              "      <td>7.2</td>\n",
              "      <td>0.23</td>\n",
              "      <td>8.5</td>\n",
              "      <td>0.058</td>\n",
              "      <td>186.0</td>\n",
              "      <td>0.9956</td>\n",
              "      <td>3.19</td>\n",
              "      <td>9.9</td>\n",
              "      <td>6</td>\n",
              "      <td>5</td>\n",
              "    </tr>\n",
              "    <tr>\n",
              "      <th>4</th>\n",
              "      <td>7.2</td>\n",
              "      <td>0.23</td>\n",
              "      <td>8.5</td>\n",
              "      <td>0.058</td>\n",
              "      <td>186.0</td>\n",
              "      <td>0.9956</td>\n",
              "      <td>3.19</td>\n",
              "      <td>9.9</td>\n",
              "      <td>6</td>\n",
              "      <td>5</td>\n",
              "    </tr>\n",
              "  </tbody>\n",
              "</table>\n",
              "</div>\n",
              "    <div class=\"colab-df-buttons\">\n",
              "\n",
              "  <div class=\"colab-df-container\">\n",
              "    <button class=\"colab-df-convert\" onclick=\"convertToInteractive('df-91a39bb9-2b4c-40e9-b38a-e4286091cc7a')\"\n",
              "            title=\"Convert this dataframe to an interactive table.\"\n",
              "            style=\"display:none;\">\n",
              "\n",
              "  <svg xmlns=\"http://www.w3.org/2000/svg\" height=\"24px\" viewBox=\"0 -960 960 960\">\n",
              "    <path d=\"M120-120v-720h720v720H120Zm60-500h600v-160H180v160Zm220 220h160v-160H400v160Zm0 220h160v-160H400v160ZM180-400h160v-160H180v160Zm440 0h160v-160H620v160ZM180-180h160v-160H180v160Zm440 0h160v-160H620v160Z\"/>\n",
              "  </svg>\n",
              "    </button>\n",
              "\n",
              "  <style>\n",
              "    .colab-df-container {\n",
              "      display:flex;\n",
              "      gap: 12px;\n",
              "    }\n",
              "\n",
              "    .colab-df-convert {\n",
              "      background-color: #E8F0FE;\n",
              "      border: none;\n",
              "      border-radius: 50%;\n",
              "      cursor: pointer;\n",
              "      display: none;\n",
              "      fill: #1967D2;\n",
              "      height: 32px;\n",
              "      padding: 0 0 0 0;\n",
              "      width: 32px;\n",
              "    }\n",
              "\n",
              "    .colab-df-convert:hover {\n",
              "      background-color: #E2EBFA;\n",
              "      box-shadow: 0px 1px 2px rgba(60, 64, 67, 0.3), 0px 1px 3px 1px rgba(60, 64, 67, 0.15);\n",
              "      fill: #174EA6;\n",
              "    }\n",
              "\n",
              "    .colab-df-buttons div {\n",
              "      margin-bottom: 4px;\n",
              "    }\n",
              "\n",
              "    [theme=dark] .colab-df-convert {\n",
              "      background-color: #3B4455;\n",
              "      fill: #D2E3FC;\n",
              "    }\n",
              "\n",
              "    [theme=dark] .colab-df-convert:hover {\n",
              "      background-color: #434B5C;\n",
              "      box-shadow: 0px 1px 3px 1px rgba(0, 0, 0, 0.15);\n",
              "      filter: drop-shadow(0px 1px 2px rgba(0, 0, 0, 0.3));\n",
              "      fill: #FFFFFF;\n",
              "    }\n",
              "  </style>\n",
              "\n",
              "    <script>\n",
              "      const buttonEl =\n",
              "        document.querySelector('#df-91a39bb9-2b4c-40e9-b38a-e4286091cc7a button.colab-df-convert');\n",
              "      buttonEl.style.display =\n",
              "        google.colab.kernel.accessAllowed ? 'block' : 'none';\n",
              "\n",
              "      async function convertToInteractive(key) {\n",
              "        const element = document.querySelector('#df-91a39bb9-2b4c-40e9-b38a-e4286091cc7a');\n",
              "        const dataTable =\n",
              "          await google.colab.kernel.invokeFunction('convertToInteractive',\n",
              "                                                    [key], {});\n",
              "        if (!dataTable) return;\n",
              "\n",
              "        const docLinkHtml = 'Like what you see? Visit the ' +\n",
              "          '<a target=\"_blank\" href=https://colab.research.google.com/notebooks/data_table.ipynb>data table notebook</a>'\n",
              "          + ' to learn more about interactive tables.';\n",
              "        element.innerHTML = '';\n",
              "        dataTable['output_type'] = 'display_data';\n",
              "        await google.colab.output.renderOutput(dataTable, element);\n",
              "        const docLink = document.createElement('div');\n",
              "        docLink.innerHTML = docLinkHtml;\n",
              "        element.appendChild(docLink);\n",
              "      }\n",
              "    </script>\n",
              "  </div>\n",
              "\n",
              "\n",
              "<div id=\"df-02ec6aac-7c7d-4e68-a329-9a31084da909\">\n",
              "  <button class=\"colab-df-quickchart\" onclick=\"quickchart('df-02ec6aac-7c7d-4e68-a329-9a31084da909')\"\n",
              "            title=\"Suggest charts\"\n",
              "            style=\"display:none;\">\n",
              "\n",
              "<svg xmlns=\"http://www.w3.org/2000/svg\" height=\"24px\"viewBox=\"0 0 24 24\"\n",
              "     width=\"24px\">\n",
              "    <g>\n",
              "        <path d=\"M19 3H5c-1.1 0-2 .9-2 2v14c0 1.1.9 2 2 2h14c1.1 0 2-.9 2-2V5c0-1.1-.9-2-2-2zM9 17H7v-7h2v7zm4 0h-2V7h2v10zm4 0h-2v-4h2v4z\"/>\n",
              "    </g>\n",
              "</svg>\n",
              "  </button>\n",
              "\n",
              "<style>\n",
              "  .colab-df-quickchart {\n",
              "      --bg-color: #E8F0FE;\n",
              "      --fill-color: #1967D2;\n",
              "      --hover-bg-color: #E2EBFA;\n",
              "      --hover-fill-color: #174EA6;\n",
              "      --disabled-fill-color: #AAA;\n",
              "      --disabled-bg-color: #DDD;\n",
              "  }\n",
              "\n",
              "  [theme=dark] .colab-df-quickchart {\n",
              "      --bg-color: #3B4455;\n",
              "      --fill-color: #D2E3FC;\n",
              "      --hover-bg-color: #434B5C;\n",
              "      --hover-fill-color: #FFFFFF;\n",
              "      --disabled-bg-color: #3B4455;\n",
              "      --disabled-fill-color: #666;\n",
              "  }\n",
              "\n",
              "  .colab-df-quickchart {\n",
              "    background-color: var(--bg-color);\n",
              "    border: none;\n",
              "    border-radius: 50%;\n",
              "    cursor: pointer;\n",
              "    display: none;\n",
              "    fill: var(--fill-color);\n",
              "    height: 32px;\n",
              "    padding: 0;\n",
              "    width: 32px;\n",
              "  }\n",
              "\n",
              "  .colab-df-quickchart:hover {\n",
              "    background-color: var(--hover-bg-color);\n",
              "    box-shadow: 0 1px 2px rgba(60, 64, 67, 0.3), 0 1px 3px 1px rgba(60, 64, 67, 0.15);\n",
              "    fill: var(--button-hover-fill-color);\n",
              "  }\n",
              "\n",
              "  .colab-df-quickchart-complete:disabled,\n",
              "  .colab-df-quickchart-complete:disabled:hover {\n",
              "    background-color: var(--disabled-bg-color);\n",
              "    fill: var(--disabled-fill-color);\n",
              "    box-shadow: none;\n",
              "  }\n",
              "\n",
              "  .colab-df-spinner {\n",
              "    border: 2px solid var(--fill-color);\n",
              "    border-color: transparent;\n",
              "    border-bottom-color: var(--fill-color);\n",
              "    animation:\n",
              "      spin 1s steps(1) infinite;\n",
              "  }\n",
              "\n",
              "  @keyframes spin {\n",
              "    0% {\n",
              "      border-color: transparent;\n",
              "      border-bottom-color: var(--fill-color);\n",
              "      border-left-color: var(--fill-color);\n",
              "    }\n",
              "    20% {\n",
              "      border-color: transparent;\n",
              "      border-left-color: var(--fill-color);\n",
              "      border-top-color: var(--fill-color);\n",
              "    }\n",
              "    30% {\n",
              "      border-color: transparent;\n",
              "      border-left-color: var(--fill-color);\n",
              "      border-top-color: var(--fill-color);\n",
              "      border-right-color: var(--fill-color);\n",
              "    }\n",
              "    40% {\n",
              "      border-color: transparent;\n",
              "      border-right-color: var(--fill-color);\n",
              "      border-top-color: var(--fill-color);\n",
              "    }\n",
              "    60% {\n",
              "      border-color: transparent;\n",
              "      border-right-color: var(--fill-color);\n",
              "    }\n",
              "    80% {\n",
              "      border-color: transparent;\n",
              "      border-right-color: var(--fill-color);\n",
              "      border-bottom-color: var(--fill-color);\n",
              "    }\n",
              "    90% {\n",
              "      border-color: transparent;\n",
              "      border-bottom-color: var(--fill-color);\n",
              "    }\n",
              "  }\n",
              "</style>\n",
              "\n",
              "  <script>\n",
              "    async function quickchart(key) {\n",
              "      const quickchartButtonEl =\n",
              "        document.querySelector('#' + key + ' button');\n",
              "      quickchartButtonEl.disabled = true;  // To prevent multiple clicks.\n",
              "      quickchartButtonEl.classList.add('colab-df-spinner');\n",
              "      try {\n",
              "        const charts = await google.colab.kernel.invokeFunction(\n",
              "            'suggestCharts', [key], {});\n",
              "      } catch (error) {\n",
              "        console.error('Error during call to suggestCharts:', error);\n",
              "      }\n",
              "      quickchartButtonEl.classList.remove('colab-df-spinner');\n",
              "      quickchartButtonEl.classList.add('colab-df-quickchart-complete');\n",
              "    }\n",
              "    (() => {\n",
              "      let quickchartButtonEl =\n",
              "        document.querySelector('#df-02ec6aac-7c7d-4e68-a329-9a31084da909 button');\n",
              "      quickchartButtonEl.style.display =\n",
              "        google.colab.kernel.accessAllowed ? 'block' : 'none';\n",
              "    })();\n",
              "  </script>\n",
              "</div>\n",
              "    </div>\n",
              "  </div>\n"
            ],
            "application/vnd.google.colaboratory.intrinsic+json": {
              "type": "dataframe",
              "variable_name": "wine_data1",
              "summary": "{\n  \"name\": \"wine_data1\",\n  \"rows\": 4898,\n  \"fields\": [\n    {\n      \"column\": \"fixed acidity\",\n      \"properties\": {\n        \"dtype\": \"number\",\n        \"std\": 0.843868227687513,\n        \"min\": 3.8,\n        \"max\": 14.2,\n        \"num_unique_values\": 68,\n        \"samples\": [\n          10.3,\n          5.8,\n          6.2\n        ],\n        \"semantic_type\": \"\",\n        \"description\": \"\"\n      }\n    },\n    {\n      \"column\": \"volatile acidity\",\n      \"properties\": {\n        \"dtype\": \"number\",\n        \"std\": 0.10079454842486534,\n        \"min\": 0.08,\n        \"max\": 1.1,\n        \"num_unique_values\": 125,\n        \"samples\": [\n          0.14,\n          0.595,\n          0.13\n        ],\n        \"semantic_type\": \"\",\n        \"description\": \"\"\n      }\n    },\n    {\n      \"column\": \"residual sugar\",\n      \"properties\": {\n        \"dtype\": \"number\",\n        \"std\": 5.072057784014881,\n        \"min\": 0.6,\n        \"max\": 65.8,\n        \"num_unique_values\": 310,\n        \"samples\": [\n          15.5,\n          19.25,\n          3.3\n        ],\n        \"semantic_type\": \"\",\n        \"description\": \"\"\n      }\n    },\n    {\n      \"column\": \"chlorides\",\n      \"properties\": {\n        \"dtype\": \"number\",\n        \"std\": 0.021847968093728798,\n        \"min\": 0.009,\n        \"max\": 0.346,\n        \"num_unique_values\": 160,\n        \"samples\": [\n          0.167,\n          0.133,\n          0.015\n        ],\n        \"semantic_type\": \"\",\n        \"description\": \"\"\n      }\n    },\n    {\n      \"column\": \"total sulfur dioxide\",\n      \"properties\": {\n        \"dtype\": \"number\",\n        \"std\": 42.49806455414291,\n        \"min\": 9.0,\n        \"max\": 440.0,\n        \"num_unique_values\": 251,\n        \"samples\": [\n          260.0,\n          63.0,\n          70.0\n        ],\n        \"semantic_type\": \"\",\n        \"description\": \"\"\n      }\n    },\n    {\n      \"column\": \"density\",\n      \"properties\": {\n        \"dtype\": \"number\",\n        \"std\": 0.0029909069169369337,\n        \"min\": 0.98711,\n        \"max\": 1.03898,\n        \"num_unique_values\": 890,\n        \"samples\": [\n          0.99362,\n          0.99388,\n          0.9929\n        ],\n        \"semantic_type\": \"\",\n        \"description\": \"\"\n      }\n    },\n    {\n      \"column\": \"pH\",\n      \"properties\": {\n        \"dtype\": \"number\",\n        \"std\": 0.1510005996150668,\n        \"min\": 2.72,\n        \"max\": 3.82,\n        \"num_unique_values\": 103,\n        \"samples\": [\n          3.34,\n          3.41,\n          3.49\n        ],\n        \"semantic_type\": \"\",\n        \"description\": \"\"\n      }\n    },\n    {\n      \"column\": \"alcohol\",\n      \"properties\": {\n        \"dtype\": \"number\",\n        \"std\": 1.230620567757318,\n        \"min\": 8.0,\n        \"max\": 14.2,\n        \"num_unique_values\": 103,\n        \"samples\": [\n          12.6,\n          11.3666666666667,\n          10.0333333333333\n        ],\n        \"semantic_type\": \"\",\n        \"description\": \"\"\n      }\n    },\n    {\n      \"column\": \"quality\",\n      \"properties\": {\n        \"dtype\": \"number\",\n        \"std\": 0,\n        \"min\": 3,\n        \"max\": 9,\n        \"num_unique_values\": 7,\n        \"samples\": [\n          6,\n          5,\n          3\n        ],\n        \"semantic_type\": \"\",\n        \"description\": \"\"\n      }\n    },\n    {\n      \"column\": \"alcohol_cat\",\n      \"properties\": {\n        \"dtype\": \"category\",\n        \"num_unique_values\": 1,\n        \"samples\": [\n          5\n        ],\n        \"semantic_type\": \"\",\n        \"description\": \"\"\n      }\n    }\n  ]\n}"
            }
          },
          "metadata": {},
          "execution_count": 107
        }
      ]
    },
    {
      "cell_type": "code",
      "source": [
        "# The dataset is then split into training and testing sets using stratified sampling based on the \"alcohol_cat\" column. The test set makes up 20% of the total dataset.\n",
        "from sklearn.model_selection import train_test_split\n",
        "\n",
        "target = wine_data1['quality']\n",
        "data = wine_data1.drop('quality', axis=1)\n",
        "\n",
        "strat_train_set, strat_test_set = train_test_split(wine_data1, test_size=0.2, stratify=wine_data1[\"quality\"], random_state=42)"
      ],
      "metadata": {
        "id": "0uOiegQrRcnt"
      },
      "execution_count": null,
      "outputs": []
    },
    {
      "cell_type": "code",
      "source": [
        "# Extract features and target variables from the split sets\n",
        "X_train = strat_train_set.drop(\"quality\", axis=1)\n",
        "y_train = strat_train_set[\"quality\"]\n",
        "\n",
        "X_test = strat_test_set.drop(\"quality\", axis=1)\n",
        "y_test = strat_test_set[\"quality\"]\n",
        "\n",
        "# Apply oversampling to the training set\n",
        "from imblearn.over_sampling import RandomOverSampler\n",
        "\n",
        "ros = RandomOverSampler(random_state=42)\n",
        "X_train_resampled, y_train_resampled = ros.fit_resample(X_train, y_train)\n",
        "\n",
        "#Splitting the X_train resampled and the y_train_resampled so we can create a validation split to test the different models and choose the best one\n",
        "X_train_resampled, X_val_resampled, y_train_resampled, y_val_resampled = train_test_split(\n",
        "    X_train_resampled, y_train_resampled, test_size=0.2, random_state=42\n",
        ")"
      ],
      "metadata": {
        "id": "8kwdHM-PUgUU"
      },
      "execution_count": null,
      "outputs": []
    },
    {
      "cell_type": "code",
      "source": [
        "X_train_resampled.value_counts()"
      ],
      "metadata": {
        "colab": {
          "base_uri": "https://localhost:8080/"
        },
        "id": "kCF34YfYUtRq",
        "outputId": "cdf28f88-0d9a-49eb-f397-c51393f7b493"
      },
      "execution_count": null,
      "outputs": [
        {
          "output_type": "execute_result",
          "data": {
            "text/plain": [
              "fixed acidity  volatile acidity  residual sugar  chlorides  total sulfur dioxide  density  pH    alcohol  alcohol_cat\n",
              "9.1            0.27              10.6            0.035      124.0                 0.99700  3.20  10.4     5              367\n",
              "7.1            0.26              2.2             0.032      113.0                 0.99030  3.37  12.9     5              362\n",
              "6.6            0.36              1.6             0.021      85.0                  0.98965  3.41  12.4     5              349\n",
              "7.4            0.24              2.0             0.031      139.0                 0.99055  3.28  12.5     5              322\n",
              "6.9            0.39              4.6             0.022      19.0                  0.99150  3.31  12.6     5              111\n",
              "                                                                                                                        ... \n",
              "6.6            0.27              5.3             0.137      163.0                 0.99510  3.20  9.3      5                1\n",
              "                                                 0.045      189.0                 0.99530  3.31  9.8      5                1\n",
              "                                 3.1             0.052      188.0                 0.99150  3.24  11.3     5                1\n",
              "                                 1.9             0.025      153.0                 0.99280  3.29  10.5     5                1\n",
              "14.2           0.27              1.1             0.037      156.0                 0.99200  3.15  11.1     5                1\n",
              "Length: 2892, dtype: int64"
            ]
          },
          "metadata": {},
          "execution_count": 110
        }
      ]
    },
    {
      "cell_type": "code",
      "source": [
        "from sklearn.impute import SimpleImputer\n",
        "from sklearn.preprocessing import StandardScaler\n",
        "from sklearn.preprocessing import OneHotEncoder\n",
        "from sklearn.pipeline import make_pipeline\n",
        "from sklearn.compose import ColumnTransformer\n",
        "\n",
        "# Data pipeline to correct all the data to numerical\n",
        "num_attribs1 = [\"fixed acidity\", \"volatile acidity\", \"residual sugar\", \"chlorides\",\n",
        "               \"total sulfur dioxide\", \"density\", \"pH\", \"alcohol\"]\n",
        "\n",
        "num_pipeline1 = make_pipeline(\n",
        "    SimpleImputer(strategy=\"median\"),\n",
        "    StandardScaler())\n",
        "\n",
        "full_pipeline1 = ColumnTransformer([\n",
        "    (\"num\", num_pipeline1, num_attribs1),\n",
        "])\n",
        "\n",
        "X_prepared = full_pipeline1.fit_transform(X_train_resampled)"
      ],
      "metadata": {
        "id": "GChXRkMjT4_d"
      },
      "execution_count": null,
      "outputs": []
    },
    {
      "cell_type": "code",
      "source": [
        "# Making sure that the X_val_resampled is the same shape as X_prepared so it works with the model\n",
        "X_val_prepared = full_pipeline1.transform(X_val_resampled)"
      ],
      "metadata": {
        "id": "MVcqbEMFU1zs"
      },
      "execution_count": null,
      "outputs": []
    },
    {
      "cell_type": "markdown",
      "source": [
        "This step runs the validation data through a series of models to test, which would be most suitable for our dataset. There are a total of 16 models that we are testing through, so it may take some time for this to complete\n",
        "\n",
        "***WARNING***<BR>\n",
        "This step will take a couple minutes to complete all of the calculations."
      ],
      "metadata": {
        "id": "lDUpd_DzXftG"
      }
    },
    {
      "cell_type": "code",
      "source": [
        "from sklearn.linear_model import LinearRegression, BayesianRidge, Ridge, Lasso, ElasticNet, HuberRegressor, PassiveAggressiveRegressor, RANSACRegressor\n",
        "from sklearn.svm import SVR\n",
        "from sklearn.tree import DecisionTreeRegressor\n",
        "from sklearn.ensemble import RandomForestRegressor, GradientBoostingRegressor\n",
        "from sklearn.neighbors import KNeighborsRegressor\n",
        "from sklearn.metrics import mean_squared_error, mean_absolute_error, r2_score\n",
        "\n",
        "results = {}\n",
        "\n",
        "# List of models\n",
        "models = [\n",
        "    LinearRegression(),\n",
        "    DecisionTreeRegressor(random_state=42),\n",
        "    RandomForestRegressor(random_state=42),\n",
        "    BayesianRidge(),\n",
        "    GradientBoostingRegressor(random_state=42),\n",
        "    KNeighborsRegressor(),\n",
        "    Ridge(),\n",
        "    Lasso(),\n",
        "    ElasticNet(),\n",
        "    HuberRegressor(),\n",
        "    PassiveAggressiveRegressor(),\n",
        "    RANSACRegressor(),\n",
        "    SVR()\n",
        "]\n",
        "\n",
        "# Evaluate all models using a loop\n",
        "for model in models:\n",
        "    print(f\"\\nEvaluating {model.__class__.__name__}:\\n\")\n",
        "\n",
        "    # Fit the model\n",
        "    model.fit(X_prepared, y_train_resampled)\n",
        "\n",
        "    # Make predictions\n",
        "    y_pred = model.predict(X_val_prepared)\n",
        "\n",
        "    # Calculate metrics\n",
        "    mse = mean_squared_error(y_val_resampled, y_pred)\n",
        "    mae = mean_absolute_error(y_val_resampled, y_pred)\n",
        "    r2 = r2_score(y_val_resampled, y_pred)\n",
        "\n",
        "    # Perform cross-validation\n",
        "    cv_scores = -cross_val_score(model, X_val_prepared, y_val_resampled, scoring=\"neg_root_mean_squared_error\", cv=10)\n",
        "    mean_cv_score = np.mean(cv_scores)\n",
        "\n",
        "    # Store results in the dictionary\n",
        "    results[model.__class__.__name__] = {'MSE': mse, 'MAE': mae, 'R2': r2, 'CV_RMSE': mean_cv_score}\n",
        "\n",
        "    # Print results for the current model\n",
        "    for metric, value in results[model.__class__.__name__].items():\n",
        "        print(f\"{metric}: {value}\")"
      ],
      "metadata": {
        "colab": {
          "base_uri": "https://localhost:8080/"
        },
        "id": "jT47jq_gU2bb",
        "outputId": "69157cc8-a47d-4244-b5aa-2f7323388eb3"
      },
      "execution_count": null,
      "outputs": [
        {
          "output_type": "stream",
          "name": "stdout",
          "text": [
            "\n",
            "Evaluating LinearRegression:\n",
            "\n",
            "MSE: 2.540967032243233\n",
            "MAE: 1.2663558112673021\n",
            "R2: 0.36637579395556474\n",
            "CV_RMSE: 1.5981061617612615\n",
            "\n",
            "Evaluating DecisionTreeRegressor:\n",
            "\n",
            "MSE: 0.1437855402112104\n",
            "MAE: 0.10641754670999187\n",
            "R2: 0.9641451472605028\n",
            "CV_RMSE: 0.7226967257064041\n",
            "\n",
            "Evaluating RandomForestRegressor:\n",
            "\n",
            "MSE: 0.08303830219333874\n",
            "MAE: 0.12100324939073923\n",
            "R2: 0.9792932857329982\n",
            "CV_RMSE: 0.5083447954416547\n",
            "\n",
            "Evaluating BayesianRidge:\n",
            "\n",
            "MSE: 2.5398182258028066\n",
            "MAE: 1.2667608175232783\n",
            "R2: 0.366662264247968\n",
            "CV_RMSE: 1.5973888790407642\n",
            "\n",
            "Evaluating GradientBoostingRegressor:\n",
            "\n",
            "MSE: 0.6005581944546958\n",
            "MAE: 0.5829551816169303\n",
            "R2: 0.8502427602105109\n",
            "CV_RMSE: 0.8077720481103368\n",
            "\n",
            "Evaluating KNeighborsRegressor:\n",
            "\n",
            "MSE: 0.2056214459788789\n",
            "MAE: 0.21007311129163284\n",
            "R2: 0.9487255348846241\n",
            "CV_RMSE: 0.7892677227571993\n",
            "\n",
            "Evaluating Ridge:\n",
            "\n",
            "MSE: 2.5407907018044433\n",
            "MAE: 1.2664145608001005\n",
            "R2: 0.36641976431521983\n",
            "CV_RMSE: 1.5979569176167048\n",
            "\n",
            "Evaluating Lasso:\n",
            "\n",
            "MSE: 3.9653181818345495\n",
            "MAE: 1.704434014341816\n",
            "R2: 0.011194733030298498\n",
            "CV_RMSE: 1.9996070629449043\n",
            "\n",
            "Evaluating ElasticNet:\n",
            "\n",
            "MSE: 3.430149616484199\n",
            "MAE: 1.5860699424844054\n",
            "R2: 0.14464619187142036\n",
            "CV_RMSE: 1.8522434210556198\n",
            "\n",
            "Evaluating HuberRegressor:\n",
            "\n",
            "MSE: 2.6372307322864668\n",
            "MAE: 1.2329265354925045\n",
            "R2: 0.342371149370725\n",
            "CV_RMSE: 1.6356858556231348\n",
            "\n",
            "Evaluating PassiveAggressiveRegressor:\n",
            "\n",
            "MSE: 5.050970399617997\n",
            "MAE: 1.6805578535072883\n",
            "R2: -0.25952720700452536\n",
            "CV_RMSE: 2.608815919970939\n",
            "\n",
            "Evaluating RANSACRegressor:\n",
            "\n",
            "MSE: 3.996348526175455\n",
            "MAE: 1.3784556333402365\n",
            "R2: 0.003456900525272255\n",
            "CV_RMSE: 1.923519817768645\n",
            "\n",
            "Evaluating SVR:\n",
            "\n",
            "MSE: 0.742098115206186\n",
            "MAE: 0.563018366175332\n",
            "R2: 0.8149478827989844\n",
            "CV_RMSE: 0.9847641535124287\n"
          ]
        }
      ]
    },
    {
      "cell_type": "code",
      "source": [
        "#From looking at the model choosing process, it looks like RandomForestRegressor had the best performance on the data, so we will be moving forward with it\n",
        "ran_for = RandomForestRegressor(random_state=42)\n",
        "ran_for.fit(X_prepared, y_train_resampled)"
      ],
      "metadata": {
        "colab": {
          "base_uri": "https://localhost:8080/",
          "height": 75
        },
        "id": "GdTYI7SJU6Gl",
        "outputId": "5f11e0a5-8a4f-4688-eb4d-73cf787e28ef"
      },
      "execution_count": null,
      "outputs": [
        {
          "output_type": "execute_result",
          "data": {
            "text/plain": [
              "RandomForestRegressor(random_state=42)"
            ],
            "text/html": [
              "<style>#sk-container-id-16 {color: black;background-color: white;}#sk-container-id-16 pre{padding: 0;}#sk-container-id-16 div.sk-toggleable {background-color: white;}#sk-container-id-16 label.sk-toggleable__label {cursor: pointer;display: block;width: 100%;margin-bottom: 0;padding: 0.3em;box-sizing: border-box;text-align: center;}#sk-container-id-16 label.sk-toggleable__label-arrow:before {content: \"▸\";float: left;margin-right: 0.25em;color: #696969;}#sk-container-id-16 label.sk-toggleable__label-arrow:hover:before {color: black;}#sk-container-id-16 div.sk-estimator:hover label.sk-toggleable__label-arrow:before {color: black;}#sk-container-id-16 div.sk-toggleable__content {max-height: 0;max-width: 0;overflow: hidden;text-align: left;background-color: #f0f8ff;}#sk-container-id-16 div.sk-toggleable__content pre {margin: 0.2em;color: black;border-radius: 0.25em;background-color: #f0f8ff;}#sk-container-id-16 input.sk-toggleable__control:checked~div.sk-toggleable__content {max-height: 200px;max-width: 100%;overflow: auto;}#sk-container-id-16 input.sk-toggleable__control:checked~label.sk-toggleable__label-arrow:before {content: \"▾\";}#sk-container-id-16 div.sk-estimator input.sk-toggleable__control:checked~label.sk-toggleable__label {background-color: #d4ebff;}#sk-container-id-16 div.sk-label input.sk-toggleable__control:checked~label.sk-toggleable__label {background-color: #d4ebff;}#sk-container-id-16 input.sk-hidden--visually {border: 0;clip: rect(1px 1px 1px 1px);clip: rect(1px, 1px, 1px, 1px);height: 1px;margin: -1px;overflow: hidden;padding: 0;position: absolute;width: 1px;}#sk-container-id-16 div.sk-estimator {font-family: monospace;background-color: #f0f8ff;border: 1px dotted black;border-radius: 0.25em;box-sizing: border-box;margin-bottom: 0.5em;}#sk-container-id-16 div.sk-estimator:hover {background-color: #d4ebff;}#sk-container-id-16 div.sk-parallel-item::after {content: \"\";width: 100%;border-bottom: 1px solid gray;flex-grow: 1;}#sk-container-id-16 div.sk-label:hover label.sk-toggleable__label {background-color: #d4ebff;}#sk-container-id-16 div.sk-serial::before {content: \"\";position: absolute;border-left: 1px solid gray;box-sizing: border-box;top: 0;bottom: 0;left: 50%;z-index: 0;}#sk-container-id-16 div.sk-serial {display: flex;flex-direction: column;align-items: center;background-color: white;padding-right: 0.2em;padding-left: 0.2em;position: relative;}#sk-container-id-16 div.sk-item {position: relative;z-index: 1;}#sk-container-id-16 div.sk-parallel {display: flex;align-items: stretch;justify-content: center;background-color: white;position: relative;}#sk-container-id-16 div.sk-item::before, #sk-container-id-16 div.sk-parallel-item::before {content: \"\";position: absolute;border-left: 1px solid gray;box-sizing: border-box;top: 0;bottom: 0;left: 50%;z-index: -1;}#sk-container-id-16 div.sk-parallel-item {display: flex;flex-direction: column;z-index: 1;position: relative;background-color: white;}#sk-container-id-16 div.sk-parallel-item:first-child::after {align-self: flex-end;width: 50%;}#sk-container-id-16 div.sk-parallel-item:last-child::after {align-self: flex-start;width: 50%;}#sk-container-id-16 div.sk-parallel-item:only-child::after {width: 0;}#sk-container-id-16 div.sk-dashed-wrapped {border: 1px dashed gray;margin: 0 0.4em 0.5em 0.4em;box-sizing: border-box;padding-bottom: 0.4em;background-color: white;}#sk-container-id-16 div.sk-label label {font-family: monospace;font-weight: bold;display: inline-block;line-height: 1.2em;}#sk-container-id-16 div.sk-label-container {text-align: center;}#sk-container-id-16 div.sk-container {/* jupyter's `normalize.less` sets `[hidden] { display: none; }` but bootstrap.min.css set `[hidden] { display: none !important; }` so we also need the `!important` here to be able to override the default hidden behavior on the sphinx rendered scikit-learn.org. See: https://github.com/scikit-learn/scikit-learn/issues/21755 */display: inline-block !important;position: relative;}#sk-container-id-16 div.sk-text-repr-fallback {display: none;}</style><div id=\"sk-container-id-16\" class=\"sk-top-container\"><div class=\"sk-text-repr-fallback\"><pre>RandomForestRegressor(random_state=42)</pre><b>In a Jupyter environment, please rerun this cell to show the HTML representation or trust the notebook. <br />On GitHub, the HTML representation is unable to render, please try loading this page with nbviewer.org.</b></div><div class=\"sk-container\" hidden><div class=\"sk-item\"><div class=\"sk-estimator sk-toggleable\"><input class=\"sk-toggleable__control sk-hidden--visually\" id=\"sk-estimator-id-26\" type=\"checkbox\" checked><label for=\"sk-estimator-id-26\" class=\"sk-toggleable__label sk-toggleable__label-arrow\">RandomForestRegressor</label><div class=\"sk-toggleable__content\"><pre>RandomForestRegressor(random_state=42)</pre></div></div></div></div></div>"
            ]
          },
          "metadata": {},
          "execution_count": 119
        }
      ]
    },
    {
      "cell_type": "code",
      "source": [
        "#Fine Tuning the model with grid search\n",
        "from sklearn.model_selection import GridSearchCV\n",
        "\n",
        "param_grid = [\n",
        "    {\n",
        "        'n_estimators': [3, 10, 30],\n",
        "        'max_features': [4, 6, 8]\n",
        "     },\n",
        "\n",
        "    {\n",
        "        'bootstrap': [False],\n",
        "        'n_estimators': [3, 10],\n",
        "        'max_features': [2,3,4]\n",
        "     },\n",
        "]\n",
        "\n",
        "grid_search = GridSearchCV(ran_for, param_grid, cv=3, return_train_score=True)\n",
        "grid_search.fit(X_prepared, y_train_resampled)"
      ],
      "metadata": {
        "id": "o1OXeT1zU-e6",
        "colab": {
          "base_uri": "https://localhost:8080/",
          "height": 118
        },
        "outputId": "013b49c3-d40c-46fd-ffdf-01d904919645"
      },
      "execution_count": null,
      "outputs": [
        {
          "output_type": "execute_result",
          "data": {
            "text/plain": [
              "GridSearchCV(cv=3, estimator=RandomForestRegressor(random_state=42),\n",
              "             param_grid=[{'max_features': [4, 6, 8],\n",
              "                          'n_estimators': [3, 10, 30]},\n",
              "                         {'bootstrap': [False], 'max_features': [2, 3, 4],\n",
              "                          'n_estimators': [3, 10]}],\n",
              "             return_train_score=True)"
            ],
            "text/html": [
              "<style>#sk-container-id-17 {color: black;background-color: white;}#sk-container-id-17 pre{padding: 0;}#sk-container-id-17 div.sk-toggleable {background-color: white;}#sk-container-id-17 label.sk-toggleable__label {cursor: pointer;display: block;width: 100%;margin-bottom: 0;padding: 0.3em;box-sizing: border-box;text-align: center;}#sk-container-id-17 label.sk-toggleable__label-arrow:before {content: \"▸\";float: left;margin-right: 0.25em;color: #696969;}#sk-container-id-17 label.sk-toggleable__label-arrow:hover:before {color: black;}#sk-container-id-17 div.sk-estimator:hover label.sk-toggleable__label-arrow:before {color: black;}#sk-container-id-17 div.sk-toggleable__content {max-height: 0;max-width: 0;overflow: hidden;text-align: left;background-color: #f0f8ff;}#sk-container-id-17 div.sk-toggleable__content pre {margin: 0.2em;color: black;border-radius: 0.25em;background-color: #f0f8ff;}#sk-container-id-17 input.sk-toggleable__control:checked~div.sk-toggleable__content {max-height: 200px;max-width: 100%;overflow: auto;}#sk-container-id-17 input.sk-toggleable__control:checked~label.sk-toggleable__label-arrow:before {content: \"▾\";}#sk-container-id-17 div.sk-estimator input.sk-toggleable__control:checked~label.sk-toggleable__label {background-color: #d4ebff;}#sk-container-id-17 div.sk-label input.sk-toggleable__control:checked~label.sk-toggleable__label {background-color: #d4ebff;}#sk-container-id-17 input.sk-hidden--visually {border: 0;clip: rect(1px 1px 1px 1px);clip: rect(1px, 1px, 1px, 1px);height: 1px;margin: -1px;overflow: hidden;padding: 0;position: absolute;width: 1px;}#sk-container-id-17 div.sk-estimator {font-family: monospace;background-color: #f0f8ff;border: 1px dotted black;border-radius: 0.25em;box-sizing: border-box;margin-bottom: 0.5em;}#sk-container-id-17 div.sk-estimator:hover {background-color: #d4ebff;}#sk-container-id-17 div.sk-parallel-item::after {content: \"\";width: 100%;border-bottom: 1px solid gray;flex-grow: 1;}#sk-container-id-17 div.sk-label:hover label.sk-toggleable__label {background-color: #d4ebff;}#sk-container-id-17 div.sk-serial::before {content: \"\";position: absolute;border-left: 1px solid gray;box-sizing: border-box;top: 0;bottom: 0;left: 50%;z-index: 0;}#sk-container-id-17 div.sk-serial {display: flex;flex-direction: column;align-items: center;background-color: white;padding-right: 0.2em;padding-left: 0.2em;position: relative;}#sk-container-id-17 div.sk-item {position: relative;z-index: 1;}#sk-container-id-17 div.sk-parallel {display: flex;align-items: stretch;justify-content: center;background-color: white;position: relative;}#sk-container-id-17 div.sk-item::before, #sk-container-id-17 div.sk-parallel-item::before {content: \"\";position: absolute;border-left: 1px solid gray;box-sizing: border-box;top: 0;bottom: 0;left: 50%;z-index: -1;}#sk-container-id-17 div.sk-parallel-item {display: flex;flex-direction: column;z-index: 1;position: relative;background-color: white;}#sk-container-id-17 div.sk-parallel-item:first-child::after {align-self: flex-end;width: 50%;}#sk-container-id-17 div.sk-parallel-item:last-child::after {align-self: flex-start;width: 50%;}#sk-container-id-17 div.sk-parallel-item:only-child::after {width: 0;}#sk-container-id-17 div.sk-dashed-wrapped {border: 1px dashed gray;margin: 0 0.4em 0.5em 0.4em;box-sizing: border-box;padding-bottom: 0.4em;background-color: white;}#sk-container-id-17 div.sk-label label {font-family: monospace;font-weight: bold;display: inline-block;line-height: 1.2em;}#sk-container-id-17 div.sk-label-container {text-align: center;}#sk-container-id-17 div.sk-container {/* jupyter's `normalize.less` sets `[hidden] { display: none; }` but bootstrap.min.css set `[hidden] { display: none !important; }` so we also need the `!important` here to be able to override the default hidden behavior on the sphinx rendered scikit-learn.org. See: https://github.com/scikit-learn/scikit-learn/issues/21755 */display: inline-block !important;position: relative;}#sk-container-id-17 div.sk-text-repr-fallback {display: none;}</style><div id=\"sk-container-id-17\" class=\"sk-top-container\"><div class=\"sk-text-repr-fallback\"><pre>GridSearchCV(cv=3, estimator=RandomForestRegressor(random_state=42),\n",
              "             param_grid=[{&#x27;max_features&#x27;: [4, 6, 8],\n",
              "                          &#x27;n_estimators&#x27;: [3, 10, 30]},\n",
              "                         {&#x27;bootstrap&#x27;: [False], &#x27;max_features&#x27;: [2, 3, 4],\n",
              "                          &#x27;n_estimators&#x27;: [3, 10]}],\n",
              "             return_train_score=True)</pre><b>In a Jupyter environment, please rerun this cell to show the HTML representation or trust the notebook. <br />On GitHub, the HTML representation is unable to render, please try loading this page with nbviewer.org.</b></div><div class=\"sk-container\" hidden><div class=\"sk-item sk-dashed-wrapped\"><div class=\"sk-label-container\"><div class=\"sk-label sk-toggleable\"><input class=\"sk-toggleable__control sk-hidden--visually\" id=\"sk-estimator-id-27\" type=\"checkbox\" ><label for=\"sk-estimator-id-27\" class=\"sk-toggleable__label sk-toggleable__label-arrow\">GridSearchCV</label><div class=\"sk-toggleable__content\"><pre>GridSearchCV(cv=3, estimator=RandomForestRegressor(random_state=42),\n",
              "             param_grid=[{&#x27;max_features&#x27;: [4, 6, 8],\n",
              "                          &#x27;n_estimators&#x27;: [3, 10, 30]},\n",
              "                         {&#x27;bootstrap&#x27;: [False], &#x27;max_features&#x27;: [2, 3, 4],\n",
              "                          &#x27;n_estimators&#x27;: [3, 10]}],\n",
              "             return_train_score=True)</pre></div></div></div><div class=\"sk-parallel\"><div class=\"sk-parallel-item\"><div class=\"sk-item\"><div class=\"sk-label-container\"><div class=\"sk-label sk-toggleable\"><input class=\"sk-toggleable__control sk-hidden--visually\" id=\"sk-estimator-id-28\" type=\"checkbox\" ><label for=\"sk-estimator-id-28\" class=\"sk-toggleable__label sk-toggleable__label-arrow\">estimator: RandomForestRegressor</label><div class=\"sk-toggleable__content\"><pre>RandomForestRegressor(random_state=42)</pre></div></div></div><div class=\"sk-serial\"><div class=\"sk-item\"><div class=\"sk-estimator sk-toggleable\"><input class=\"sk-toggleable__control sk-hidden--visually\" id=\"sk-estimator-id-29\" type=\"checkbox\" ><label for=\"sk-estimator-id-29\" class=\"sk-toggleable__label sk-toggleable__label-arrow\">RandomForestRegressor</label><div class=\"sk-toggleable__content\"><pre>RandomForestRegressor(random_state=42)</pre></div></div></div></div></div></div></div></div></div></div>"
            ]
          },
          "metadata": {},
          "execution_count": 120
        }
      ]
    },
    {
      "cell_type": "code",
      "source": [
        "grid_search.best_params_"
      ],
      "metadata": {
        "colab": {
          "base_uri": "https://localhost:8080/"
        },
        "id": "jC4n_xpRVAWH",
        "outputId": "f049da0a-cdbf-4e96-8b25-dd243eab0350"
      },
      "execution_count": null,
      "outputs": [
        {
          "output_type": "execute_result",
          "data": {
            "text/plain": [
              "{'bootstrap': False, 'max_features': 3, 'n_estimators': 10}"
            ]
          },
          "metadata": {},
          "execution_count": 121
        }
      ]
    },
    {
      "cell_type": "code",
      "source": [
        "#Creating the model with the best parameters\n",
        "final_model = grid_search.best_estimator_\n",
        "\n",
        "feature_importances = final_model.feature_importances_\n",
        "feature_importances.round(2)\n"
      ],
      "metadata": {
        "colab": {
          "base_uri": "https://localhost:8080/"
        },
        "id": "9gfCocOOVA4W",
        "outputId": "017d3f41-07b3-48a5-992a-565d14370bfd"
      },
      "execution_count": null,
      "outputs": [
        {
          "output_type": "execute_result",
          "data": {
            "text/plain": [
              "array([0.1 , 0.09, 0.07, 0.15, 0.13, 0.2 , 0.07, 0.2 ])"
            ]
          },
          "metadata": {},
          "execution_count": 122
        }
      ]
    },
    {
      "cell_type": "code",
      "source": [
        "#Final testing and rmse calculations\n",
        "X_test_prepared = full_pipeline1.transform(X_test)\n",
        "\n",
        "final_predictions = final_model.predict(X_test_prepared)\n",
        "\n",
        "final_rmse = mean_squared_error(y_test, final_predictions, squared=False)\n",
        "print(final_rmse)"
      ],
      "metadata": {
        "colab": {
          "base_uri": "https://localhost:8080/"
        },
        "id": "0hfqrl_mVDnm",
        "outputId": "5b29418d-d2e9-4f3b-bc73-d96684257095"
      },
      "execution_count": null,
      "outputs": [
        {
          "output_type": "stream",
          "name": "stdout",
          "text": [
            "0.6729996815961887\n"
          ]
        }
      ]
    },
    {
      "cell_type": "code",
      "source": [
        "final_predictions"
      ],
      "metadata": {
        "colab": {
          "base_uri": "https://localhost:8080/"
        },
        "id": "exXJIvONoRQg",
        "outputId": "bc10fea5-5c70-4f84-f30f-7251e9ce1600"
      },
      "execution_count": null,
      "outputs": [
        {
          "output_type": "execute_result",
          "data": {
            "text/plain": [
              "array([5.6, 5.8, 6. , 6.2, 6.1, 5.7, 5.9, 5.7, 5.8, 4.8, 7. , 5.8, 4.9,\n",
              "       6.7, 5. , 4. , 5.8, 6.8, 6.2, 6. , 5.6, 6.7, 5.7, 6. , 6. , 5.2,\n",
              "       6. , 6. , 6.3, 6. , 6.1, 5.8, 6.5, 6.1, 6.5, 4.9, 6. , 6.3, 5.4,\n",
              "       5.3, 6.1, 4.8, 7. , 5.9, 5. , 5.8, 6. , 6. , 5.8, 6.1, 6. , 5.6,\n",
              "       5.9, 5.9, 6.1, 6.4, 5.5, 5.1, 5.2, 5.6, 6.3, 6.2, 5.7, 5.4, 5.8,\n",
              "       5.4, 5. , 5.5, 5.4, 5. , 6.9, 6. , 5.9, 6. , 6.1, 4.8, 6. , 6.3,\n",
              "       6. , 6.4, 4.3, 5.4, 7. , 5. , 5. , 7. , 5.4, 7. , 5.2, 6.8, 7.2,\n",
              "       5.3, 5. , 6.2, 5. , 6. , 5.4, 6.1, 6.1, 5.5, 5.5, 6. , 5.7, 4. ,\n",
              "       4. , 6. , 6.4, 6.4, 6.2, 6. , 6.1, 5. , 5. , 4.9, 5.6, 8. , 5.7,\n",
              "       7.1, 6. , 6.2, 5.3, 6. , 5. , 5.5, 5.8, 5.5, 5.4, 7. , 6.7, 4.9,\n",
              "       5. , 5.6, 5.7, 5.8, 7. , 8. , 5. , 6.4, 6. , 6.4, 7. , 5.7, 4.8,\n",
              "       5.7, 6. , 5.5, 6. , 6.3, 8. , 6.6, 6.6, 5.7, 5. , 5.1, 6.3, 5.6,\n",
              "       5. , 7. , 5. , 5.3, 6.2, 7. , 5.1, 7. , 5.5, 5. , 7. , 6. , 7.1,\n",
              "       5. , 5.1, 5.8, 5.8, 6.2, 6.1, 6.4, 6. , 6.5, 5.1, 7.2, 5.9, 6.1,\n",
              "       6.1, 5.2, 4.9, 5.6, 7.1, 6.2, 6. , 6. , 5. , 6.9, 5.9, 7. , 5.9,\n",
              "       6.6, 5. , 5. , 7. , 5.6, 5.3, 5.5, 5.1, 5.3, 6.2, 6.4, 5.3, 6.5,\n",
              "       4.8, 5.7, 5.2, 6. , 5.1, 6. , 6.4, 6.6, 6. , 7. , 6.4, 6. , 6. ,\n",
              "       5.5, 5.9, 5.9, 6. , 5.2, 6.4, 7. , 5.7, 6. , 6.3, 6.9, 4.7, 5.5,\n",
              "       5.5, 6.6, 7. , 6.4, 5.8, 5. , 6.2, 5.1, 4.8, 6.2, 8. , 5. , 6. ,\n",
              "       7. , 6.3, 5. , 6.5, 5.4, 6.4, 6. , 5.7, 5. , 5.9, 6.1, 6.4, 6. ,\n",
              "       6. , 6.4, 5.9, 5. , 6. , 6.4, 5.6, 5.8, 6.8, 5.3, 6.4, 5.9, 4.8,\n",
              "       5. , 5.8, 4.9, 6.6, 6.1, 5.6, 5.2, 6. , 6.9, 6.1, 5.2, 6.4, 6.7,\n",
              "       5.9, 7. , 5.4, 6.8, 6.4, 6.6, 7. , 5.3, 5.4, 6. , 6.9, 6.4, 5. ,\n",
              "       6.1, 5. , 5.9, 7. , 5.7, 6. , 4.3, 6.5, 6. , 5. , 6. , 5.9, 5.9,\n",
              "       5. , 6.5, 5.8, 5. , 7. , 5. , 6. , 5.2, 5. , 6.1, 6.3, 5.3, 5.6,\n",
              "       6.3, 5.6, 5.6, 7. , 5. , 5.8, 6.6, 7.5, 5. , 5. , 6. , 4.9, 6.4,\n",
              "       5.4, 5.2, 6.1, 6.8, 6.3, 6.1, 6. , 5. , 5.5, 7. , 6.1, 7. , 6.8,\n",
              "       8. , 4.9, 5.1, 6.9, 7. , 6. , 5.3, 6. , 6. , 6.5, 6.5, 7. , 5.9,\n",
              "       5. , 5.2, 5. , 5.5, 5.6, 7. , 5.3, 5. , 5.3, 5. , 5. , 6. , 5.9,\n",
              "       5.7, 5.4, 7.4, 6. , 7. , 4.9, 6.2, 5.1, 5.3, 5.3, 5.9, 5.3, 6.2,\n",
              "       6.4, 5.5, 5.1, 5. , 4.9, 5.8, 8. , 5.4, 6.2, 6. , 6.5, 6. , 6. ,\n",
              "       6. , 6. , 6.2, 6.4, 4.9, 4.9, 5.2, 7.1, 6. , 5.5, 5.1, 6. , 6. ,\n",
              "       6. , 5.8, 5.5, 5.8, 5.9, 6.7, 4.9, 6. , 7. , 5.2, 6.6, 6.8, 5.3,\n",
              "       6.3, 5.8, 5. , 7. , 6.2, 6. , 4.8, 6.5, 4.8, 6. , 5.6, 5.1, 5. ,\n",
              "       6.7, 6. , 5. , 5.9, 5.4, 6.2, 5.1, 5. , 7.5, 6.1, 5. , 6.2, 6. ,\n",
              "       6.6, 5.8, 5.8, 5.7, 5. , 5.7, 5.1, 6.4, 6.2, 6.4, 5.2, 6. , 5. ,\n",
              "       6.3, 6. , 6.5, 6.3, 5.9, 6.7, 6.1, 6.1, 4.9, 5. , 5.7, 5.3, 6.9,\n",
              "       5.4, 6.3, 6.3, 5.2, 5.5, 6.3, 5.3, 4.9, 5.2, 6.5, 6. , 6.7, 6.3,\n",
              "       7.1, 5.2, 6.6, 5. , 5.8, 6.6, 6. , 5.6, 5.7, 6. , 6.4, 6. , 5.3,\n",
              "       6. , 7.1, 5.9, 6.6, 4.1, 5.9, 5. , 6.5, 5. , 6. , 6.8, 6.4, 5.8,\n",
              "       6.1, 5.2, 5.1, 6.1, 6.2, 6. , 6.2, 6. , 7. , 8. , 5.4, 6.7, 6.3,\n",
              "       5.4, 6.7, 7. , 6. , 6.2, 5.7, 5.6, 6.8, 6.5, 5.8, 8. , 7. , 6.8,\n",
              "       6.1, 5.2, 6. , 5.7, 5.9, 6.2, 6. , 5. , 7. , 5. , 5.2, 5.4, 6. ,\n",
              "       6.6, 5.8, 5.5, 5.2, 6.4, 7. , 6.1, 6. , 4.1, 6.6, 6.4, 6.6, 4.8,\n",
              "       5.6, 5.4, 7. , 5. , 5.8, 5.8, 5.7, 6.4, 6.1, 5.5, 6. , 6.6, 5.5,\n",
              "       6.4, 5.2, 5. , 5.9, 5.7, 5. , 5.3, 5.9, 6. , 6.6, 6.4, 6.2, 5.1,\n",
              "       5. , 5.4, 5. , 5.7, 5.6, 5.3, 6.6, 6.4, 5.3, 6.4, 6.1, 5.7, 5. ,\n",
              "       5. , 7. , 5.5, 6.1, 5.3, 5.7, 5.5, 6. , 6.2, 7.1, 7. , 6.4, 8. ,\n",
              "       6. , 8. , 5.7, 5.7, 6. , 5. , 5. , 5.9, 5. , 6.5, 6.5, 5. , 5.1,\n",
              "       6. , 5.7, 5. , 5.1, 5.6, 6.1, 5.5, 5.2, 5. , 5.4, 5.9, 6. , 6.6,\n",
              "       6. , 7. , 5.7, 5.5, 5. , 6. , 6.8, 6.6, 5.2, 5. , 5. , 8. , 5.9,\n",
              "       6.3, 5.8, 6.8, 5. , 4.4, 6.5, 3.8, 5.5, 5. , 6.9, 6. , 6.3, 5.8,\n",
              "       6.8, 7. , 5.5, 6.5, 6.6, 6. , 5. , 5.6, 5.6, 6.8, 5.2, 5.6, 6.1,\n",
              "       5. , 6.2, 6.7, 5.8, 5.8, 5.8, 6. , 7.1, 5.1, 7. , 7. , 6.3, 7. ,\n",
              "       5.9, 6.1, 6.7, 5.6, 5.8, 5.1, 5.1, 6. , 5.4, 5.5, 6.6, 5.1, 5. ,\n",
              "       5.1, 6.5, 5.1, 6. , 6.8, 5.6, 6.3, 5.9, 5.9, 6. , 5.1, 6.6, 6.4,\n",
              "       5.2, 5.6, 5. , 5.4, 5.9, 6.1, 6. , 5.2, 7. , 6.4, 6.3, 8. , 6.2,\n",
              "       6.7, 5.7, 6.6, 6.7, 5.7, 5.4, 5.5, 5. , 5.9, 5.4, 5.4, 6.2, 5.6,\n",
              "       6.4, 6.5, 6. , 5.2, 5.4, 5. , 6.4, 5.9, 5. , 5.6, 5. , 7. , 6. ,\n",
              "       5.9, 6.5, 7. , 6.9, 6.6, 5.4, 5.5, 5.2, 8. , 6. , 7. , 5.7, 5.5,\n",
              "       5.5, 5.6, 6.4, 5.8, 5.9, 6.7, 6.3, 6.4, 5.5, 6. , 5.7, 6.6, 5. ,\n",
              "       5.9, 5.3, 6. , 5.4, 5.2, 5.5, 5.1, 6.1, 5.8, 6.2, 5. , 5.6, 6. ,\n",
              "       4.7, 4.9, 8. , 5.7, 5.7, 6. , 7. , 6. , 5.8, 6.8, 6.2, 8. , 5. ,\n",
              "       5. , 5.4, 6. , 6. , 6.9, 5. , 5.6, 6. , 5.1, 6. , 6. , 5.2, 5.1,\n",
              "       5. , 5.5, 5.2, 5. , 5.1, 6.7, 6. , 6. , 6.5, 4.8, 7.1, 5. , 5.2,\n",
              "       5.9, 5. , 5.5, 6.2, 6. , 7. , 5.6, 7. , 7.2, 6.1, 5. , 5.4, 7. ,\n",
              "       7. , 5.2, 6. , 5.5, 5. , 6. , 5.6, 5.5, 5.7, 4.7, 6.7, 6. , 6.6,\n",
              "       6.7, 5.3, 5.1, 8. , 6.1, 5.5, 6. , 5.9, 6.3, 6.9, 7. , 4. , 6. ,\n",
              "       6.2, 5. , 5.5, 4.8, 6. , 6. , 5.1, 5.8, 7. , 5.4, 5.6, 6.5, 5.3,\n",
              "       5.5, 5.9, 6. , 5. , 5. , 5.7, 6. , 5. , 5.6, 6.6, 6.3, 6.4, 5.4,\n",
              "       6.3, 6.3, 6. , 5.8, 5.1, 5.4, 5.5, 5.3, 5.6, 6. , 6.4, 5. , 4.9,\n",
              "       5.8, 4.5, 4.7, 6.8, 6.3, 6. , 5.3, 6. , 5.8, 6.1, 5.6, 5.6, 5. ,\n",
              "       5.4, 8. , 6.6, 4.5, 5.6, 5.7, 6.2, 6.2, 7. , 6.6, 6.6, 7. , 5.5,\n",
              "       5.9, 6. , 6.3, 7. , 6. , 6.8, 5.7, 6.2, 6.8, 6. , 5.8, 5.5, 6. ,\n",
              "       6.7, 5.6, 6. , 5.5, 5. , 6.1, 5.3, 5. , 5.9, 5. , 6.9, 6. , 6.2,\n",
              "       5.9, 6. , 5.1, 5.2, 6.2])"
            ]
          },
          "metadata": {},
          "execution_count": 124
        }
      ]
    },
    {
      "cell_type": "code",
      "source": [
        "import joblib\n",
        "\n",
        "joblib.dump(final_model, \"my_wine_quality_model.pkl\")"
      ],
      "metadata": {
        "id": "hdSE7RpCcTOL"
      },
      "execution_count": null,
      "outputs": []
    },
    {
      "cell_type": "markdown",
      "source": [
        "## Reflection"
      ],
      "metadata": {
        "id": "jyqnpHSV_KV1"
      }
    },
    {
      "cell_type": "markdown",
      "source": [
        "**Contribution statement**: Briefly explain the contribution of each member to the assignment.\n",
        "\n"
      ],
      "metadata": {
        "id": "TPOli4ZO_OLn"
      }
    },
    {
      "cell_type": "markdown",
      "source": [
        "**Koddy**: I worked mainly on dataset 2 (Wine Quality), specifically oversampling the data and splitting it properly into test/train/validation sets, and testing and evaluating the different models.\n",
        "<br>\n",
        "**Alishan**: I worked on dataset 1 (Mental Health), which included preprocessing the data, evaluating different models, and final findings within the dataset.\n",
        "<br>\n",
        "**Aldo**: I completed the in text documentation of Task One and Two. Also helped split data for Task 2 completed the report for Task 2.\n",
        "<br>\n",
        "**Paraspreet**: I worked on the report for Task 1 and Task 2, while checking over the evaluation and choice of models for both tasks\n",
        "<br>"
      ],
      "metadata": {
        "id": "NP6VEKeHc5f3"
      }
    },
    {
      "cell_type": "markdown",
      "source": [
        "**Self assessment**: In your opinion, what are the deficiencies in your work that need to be improved?\n",
        "\n",
        "- In my opinion, the decision tree model should also be looked at to see if it had better performance on the data when it was actually trained in comparison to the RandomForestRegressor model that we ultimately went with, since the model also had similar scores in the evaluation testing.\n",
        "- Look into different ways to resample the dataset when it is imbalanced to try to cause less issues like overfitting."
      ],
      "metadata": {
        "id": "peOdbhni_kMB"
      }
    },
    {
      "cell_type": "markdown",
      "source": [
        "# Marking Rubric\n"
      ],
      "metadata": {
        "id": "GecH2mA3CfRR"
      }
    },
    {
      "cell_type": "markdown",
      "source": [
        "\n",
        "The following table provides a summary of how your assignment will be marked. Your results will not be ranked against each other; what counts is reasonable choices and description of your thought processes.\n",
        "\n",
        "<table>\n",
        "<tr>\n",
        "<th>Item</th>\n",
        "<th>Points</th>\n",
        "</tr>\n",
        "\n",
        "<tr>\n",
        "<td>The training process for dataset 1</td>\n",
        "<td>20</td>\n",
        "</tr>\n",
        "\n",
        "<tr>\n",
        "<td>The training process for dataset 2</td>\n",
        "<td>24</td>\n",
        "</tr>\n",
        "\n",
        "<tr>\n",
        "<td>Documentation of the process and choices made </td>\n",
        "<td>20</td>\n",
        "</tr>\n",
        "\n",
        "<tr>\n",
        "<td>Overall code quality</td>\n",
        "<td>10</td>\n",
        "</tr>\n",
        "\n",
        "<tr>\n",
        "<td>Presentation</td>\n",
        "<td>16</td>\n",
        "</tr>\n",
        "\n",
        "<tr>\n",
        "<td>Reflection</td>\n",
        "<td>10</td>\n",
        "</tr>\n",
        "\n",
        "\n",
        "<tr>\n",
        "<td><b>Total:</b></td>\n",
        "<td><b>100</b></td>\n",
        "</tr>\n",
        "\n",
        "</table>"
      ],
      "metadata": {
        "id": "DfJ3LwLZC-gh"
      }
    }
  ]
}